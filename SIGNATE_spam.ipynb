{
  "nbformat": 4,
  "nbformat_minor": 0,
  "metadata": {
    "colab": {
      "name": "SIGNATE_spam.ipynb",
      "provenance": [],
      "mount_file_id": "1-sJXDpUcM_z-oCZIYKZnuKjKshWAwMPf",
      "authorship_tag": "ABX9TyNUC7g2D0fad2lqdrRehW7L",
      "include_colab_link": true
    },
    "kernelspec": {
      "name": "python3",
      "display_name": "Python 3"
    }
  },
  "cells": [
    {
      "cell_type": "markdown",
      "metadata": {
        "id": "view-in-github",
        "colab_type": "text"
      },
      "source": [
        "<a href=\"https://colab.research.google.com/github/KoMurase/Learn_NLP/blob/master/SIGNATE_spam.ipynb\" target=\"_parent\"><img src=\"https://colab.research.google.com/assets/colab-badge.svg\" alt=\"Open In Colab\"/></a>"
      ]
    },
    {
      "cell_type": "markdown",
      "metadata": {
        "id": "nmbmn6Rc5a_w",
        "colab_type": "text"
      },
      "source": [
        "I tried spam judgement of SIGNATE.\n",
        "\n",
        "参考:\n",
        "\n",
        "https://www.kaggle.com/shahules/basic-eda-cleaning-and-glove"
      ]
    },
    {
      "cell_type": "code",
      "metadata": {
        "id": "Yop0aw6cqlUU",
        "colab_type": "code",
        "colab": {}
      },
      "source": [
        "path = '/content/drive/My Drive/SIGNATE_spam/'"
      ],
      "execution_count": 0,
      "outputs": []
    },
    {
      "cell_type": "code",
      "metadata": {
        "id": "kuCPe0ClsAAL",
        "colab_type": "code",
        "colab": {}
      },
      "source": [
        "import numpy as np \n",
        "import pandas as pd \n",
        "import matplotlib.pyplot as plt \n",
        "import seaborn as sns \n",
        "%matplotlib inline \n"
      ],
      "execution_count": 0,
      "outputs": []
    },
    {
      "cell_type": "code",
      "metadata": {
        "id": "0C-WoSZUt73q",
        "colab_type": "code",
        "colab": {}
      },
      "source": [
        "train_master = pd.read_table(path + 'train_master.tsv')"
      ],
      "execution_count": 0,
      "outputs": []
    },
    {
      "cell_type": "code",
      "metadata": {
        "id": "KZREbxO0yKof",
        "colab_type": "code",
        "colab": {}
      },
      "source": [
        "sample = pd.read_table(path + 'sample_submit.csv', sep=',')\n",
        "sample.columns=['file_name', 'label']"
      ],
      "execution_count": 0,
      "outputs": []
    },
    {
      "cell_type": "code",
      "metadata": {
        "id": "f9yMcstiFq0z",
        "colab_type": "code",
        "colab": {
          "base_uri": "https://localhost:8080/",
          "height": 399
        },
        "outputId": "f0a7f92e-e5d0-415e-a631-d8d7fd366b5e"
      },
      "source": [
        "sample"
      ],
      "execution_count": 107,
      "outputs": [
        {
          "output_type": "execute_result",
          "data": {
            "text/html": [
              "<div>\n",
              "<style scoped>\n",
              "    .dataframe tbody tr th:only-of-type {\n",
              "        vertical-align: middle;\n",
              "    }\n",
              "\n",
              "    .dataframe tbody tr th {\n",
              "        vertical-align: top;\n",
              "    }\n",
              "\n",
              "    .dataframe thead th {\n",
              "        text-align: right;\n",
              "    }\n",
              "</style>\n",
              "<table border=\"1\" class=\"dataframe\">\n",
              "  <thead>\n",
              "    <tr style=\"text-align: right;\">\n",
              "      <th></th>\n",
              "      <th>file_name</th>\n",
              "      <th>label</th>\n",
              "    </tr>\n",
              "  </thead>\n",
              "  <tbody>\n",
              "    <tr>\n",
              "      <th>0</th>\n",
              "      <td>test_0001.txt</td>\n",
              "      <td>1</td>\n",
              "    </tr>\n",
              "    <tr>\n",
              "      <th>1</th>\n",
              "      <td>test_0002.txt</td>\n",
              "      <td>0</td>\n",
              "    </tr>\n",
              "    <tr>\n",
              "      <th>2</th>\n",
              "      <td>test_0003.txt</td>\n",
              "      <td>1</td>\n",
              "    </tr>\n",
              "    <tr>\n",
              "      <th>3</th>\n",
              "      <td>test_0004.txt</td>\n",
              "      <td>0</td>\n",
              "    </tr>\n",
              "    <tr>\n",
              "      <th>4</th>\n",
              "      <td>test_0005.txt</td>\n",
              "      <td>0</td>\n",
              "    </tr>\n",
              "    <tr>\n",
              "      <th>...</th>\n",
              "      <td>...</td>\n",
              "      <td>...</td>\n",
              "    </tr>\n",
              "    <tr>\n",
              "      <th>2580</th>\n",
              "      <td>test_2581.txt</td>\n",
              "      <td>0</td>\n",
              "    </tr>\n",
              "    <tr>\n",
              "      <th>2581</th>\n",
              "      <td>test_2582.txt</td>\n",
              "      <td>1</td>\n",
              "    </tr>\n",
              "    <tr>\n",
              "      <th>2582</th>\n",
              "      <td>test_2583.txt</td>\n",
              "      <td>1</td>\n",
              "    </tr>\n",
              "    <tr>\n",
              "      <th>2583</th>\n",
              "      <td>test_2584.txt</td>\n",
              "      <td>0</td>\n",
              "    </tr>\n",
              "    <tr>\n",
              "      <th>2584</th>\n",
              "      <td>test_2585.txt</td>\n",
              "      <td>0</td>\n",
              "    </tr>\n",
              "  </tbody>\n",
              "</table>\n",
              "<p>2585 rows × 2 columns</p>\n",
              "</div>"
            ],
            "text/plain": [
              "          file_name  label\n",
              "0     test_0001.txt      1\n",
              "1     test_0002.txt      0\n",
              "2     test_0003.txt      1\n",
              "3     test_0004.txt      0\n",
              "4     test_0005.txt      0\n",
              "...             ...    ...\n",
              "2580  test_2581.txt      0\n",
              "2581  test_2582.txt      1\n",
              "2582  test_2583.txt      1\n",
              "2583  test_2584.txt      0\n",
              "2584  test_2585.txt      0\n",
              "\n",
              "[2585 rows x 2 columns]"
            ]
          },
          "metadata": {
            "tags": []
          },
          "execution_count": 107
        }
      ]
    },
    {
      "cell_type": "code",
      "metadata": {
        "id": "QuurkSS8xBJN",
        "colab_type": "code",
        "outputId": "1ff15113-1c80-496d-80fb-ce57fa009393",
        "colab": {
          "base_uri": "https://localhost:8080/",
          "height": 106
        }
      },
      "source": [
        "train_master.head(2)"
      ],
      "execution_count": 52,
      "outputs": [
        {
          "output_type": "execute_result",
          "data": {
            "text/html": [
              "<div>\n",
              "<style scoped>\n",
              "    .dataframe tbody tr th:only-of-type {\n",
              "        vertical-align: middle;\n",
              "    }\n",
              "\n",
              "    .dataframe tbody tr th {\n",
              "        vertical-align: top;\n",
              "    }\n",
              "\n",
              "    .dataframe thead th {\n",
              "        text-align: right;\n",
              "    }\n",
              "</style>\n",
              "<table border=\"1\" class=\"dataframe\">\n",
              "  <thead>\n",
              "    <tr style=\"text-align: right;\">\n",
              "      <th></th>\n",
              "      <th>file_name</th>\n",
              "      <th>label</th>\n",
              "    </tr>\n",
              "  </thead>\n",
              "  <tbody>\n",
              "    <tr>\n",
              "      <th>0</th>\n",
              "      <td>train_0000.txt</td>\n",
              "      <td>0</td>\n",
              "    </tr>\n",
              "    <tr>\n",
              "      <th>1</th>\n",
              "      <td>train_0001.txt</td>\n",
              "      <td>0</td>\n",
              "    </tr>\n",
              "  </tbody>\n",
              "</table>\n",
              "</div>"
            ],
            "text/plain": [
              "        file_name  label\n",
              "0  train_0000.txt      0\n",
              "1  train_0001.txt      0"
            ]
          },
          "metadata": {
            "tags": []
          },
          "execution_count": 52
        }
      ]
    },
    {
      "cell_type": "code",
      "metadata": {
        "id": "jcda7RBVy0gZ",
        "colab_type": "code",
        "colab": {
          "base_uri": "https://localhost:8080/",
          "height": 106
        },
        "outputId": "5771fedd-bc2a-4204-c624-0e193b279550"
      },
      "source": [
        "sample.head(2)"
      ],
      "execution_count": 53,
      "outputs": [
        {
          "output_type": "execute_result",
          "data": {
            "text/html": [
              "<div>\n",
              "<style scoped>\n",
              "    .dataframe tbody tr th:only-of-type {\n",
              "        vertical-align: middle;\n",
              "    }\n",
              "\n",
              "    .dataframe tbody tr th {\n",
              "        vertical-align: top;\n",
              "    }\n",
              "\n",
              "    .dataframe thead th {\n",
              "        text-align: right;\n",
              "    }\n",
              "</style>\n",
              "<table border=\"1\" class=\"dataframe\">\n",
              "  <thead>\n",
              "    <tr style=\"text-align: right;\">\n",
              "      <th></th>\n",
              "      <th>file_name</th>\n",
              "      <th>label</th>\n",
              "    </tr>\n",
              "  </thead>\n",
              "  <tbody>\n",
              "    <tr>\n",
              "      <th>0</th>\n",
              "      <td>test_0001.txt</td>\n",
              "      <td>1</td>\n",
              "    </tr>\n",
              "    <tr>\n",
              "      <th>1</th>\n",
              "      <td>test_0002.txt</td>\n",
              "      <td>0</td>\n",
              "    </tr>\n",
              "  </tbody>\n",
              "</table>\n",
              "</div>"
            ],
            "text/plain": [
              "       file_name  label\n",
              "0  test_0001.txt      1\n",
              "1  test_0002.txt      0"
            ]
          },
          "metadata": {
            "tags": []
          },
          "execution_count": 53
        }
      ]
    },
    {
      "cell_type": "code",
      "metadata": {
        "id": "pLZqLU_9sLSE",
        "colab_type": "code",
        "colab": {}
      },
      "source": [
        "#!unzip '/content/drive/My Drive/SIGNATE_spam/train.zip' -d '/content/drive/My Drive/SIGNATE_spam/train/'"
      ],
      "execution_count": 0,
      "outputs": []
    },
    {
      "cell_type": "code",
      "metadata": {
        "id": "ZQotLwz_s58P",
        "colab_type": "code",
        "colab": {}
      },
      "source": [
        "#!unzip '/content/drive/My Drive/SIGNATE_spam/test.zip' -d '/content/drive/My Drive/SIGNATE_spam/test/'"
      ],
      "execution_count": 0,
      "outputs": []
    },
    {
      "cell_type": "code",
      "metadata": {
        "id": "w0uqB783t8fJ",
        "colab_type": "code",
        "colab": {}
      },
      "source": [
        "import os, glob\n",
        "import gc "
      ],
      "execution_count": 0,
      "outputs": []
    },
    {
      "cell_type": "code",
      "metadata": {
        "id": "1YhBs46Zs2Rp",
        "colab_type": "code",
        "colab": {}
      },
      "source": [
        "def read_file(filename):\n",
        "  words = []\n",
        "  with open(filename, 'rt', encoding='utf-8') as f:\n",
        "    text = f.read()\n",
        "  \n",
        "  return text\n"
      ],
      "execution_count": 0,
      "outputs": []
    },
    {
      "cell_type": "code",
      "metadata": {
        "id": "0kTGiAL2uQ9f",
        "colab_type": "code",
        "colab": {}
      },
      "source": [
        "def make_text_column(dir,df):\n",
        "  print(filename)\n",
        "  file = glob.glob(dir + filename +'.txt' )\n",
        "  for f in file:\n",
        "    text = read_file(f) \n",
        "  df['text'] = text\n",
        "\n",
        "  return df"
      ],
      "execution_count": 0,
      "outputs": []
    },
    {
      "cell_type": "code",
      "metadata": {
        "id": "7QhPiZbouUpy",
        "colab_type": "code",
        "colab": {}
      },
      "source": [
        "filenames = []\n",
        "for i in train_master['file_name']:\n",
        "  filenames.append(i)"
      ],
      "execution_count": 0,
      "outputs": []
    },
    {
      "cell_type": "code",
      "metadata": {
        "id": "lxAeWLImyCBw",
        "colab_type": "code",
        "colab": {}
      },
      "source": [
        "test_filenames = []\n",
        "for i in sample['file_name']:\n",
        "  test_filenames.append(i)"
      ],
      "execution_count": 0,
      "outputs": []
    },
    {
      "cell_type": "code",
      "metadata": {
        "id": "Vs3Bx4JjvAcm",
        "colab_type": "code",
        "colab": {}
      },
      "source": [
        "texts = []\n",
        "train_dir = '/content/drive/My Drive/SIGNATE_spam/train/train2/'\n",
        "\n",
        "for filename in filenames:\n",
        "  with open(train_dir + filename ,'rt', encoding='utf-8') as f:\n",
        "    text = f.read()\n",
        "  \n",
        "    texts.append(text)"
      ],
      "execution_count": 0,
      "outputs": []
    },
    {
      "cell_type": "code",
      "metadata": {
        "id": "Za9DpbF1y95V",
        "colab_type": "code",
        "colab": {}
      },
      "source": [
        "test_texts = []\n",
        "test_dir = '/content/drive/My Drive/SIGNATE_spam/test/test2/'\n",
        "\n",
        "for filename in test_filenames:\n",
        "  with open(test_dir + filename ,'rt', encoding='utf-8') as f:\n",
        "    test_text = f.read()\n",
        "  \n",
        "    test_texts.append(test_text)"
      ],
      "execution_count": 0,
      "outputs": []
    },
    {
      "cell_type": "code",
      "metadata": {
        "id": "Jq3Kw2N3tlaK",
        "colab_type": "code",
        "colab": {
          "base_uri": "https://localhost:8080/",
          "height": 54
        },
        "outputId": "01df030c-694d-4cae-e1aa-f38d7347588d"
      },
      "source": [
        "texts[0]\n"
      ],
      "execution_count": 37,
      "outputs": [
        {
          "output_type": "execute_result",
          "data": {
            "text/plain": [
              "'Subject: re : buyback / deficiency deals worksheet\\nthe equistar deal 156337 is the sale and swing all in one . i only have two\\ndeals for this counterparty , one for the sale and one for the buyback .\\nfrom : robert e lloyd 04 / 05 / 2000 02 : 23 pm\\nto : julie meyers / hou / ect @ ect\\ncc : pat clynes / corp / enron @ enron , daren j farmer / hou / ect @ ect , robert e\\nlloyd / hou / ect @ ect\\nsubject : buyback / deficiency deals worksheet\\nplease make the following changes and redistribute your worksheet . thanks\\n!\\n1 ) . please update equistar \" swing \" sitara ticket # as : 156337 . equistar\\n\" sale \" should reflect\\n\" various \" due to the different deals associated with this\\ncounterparty .\\n2 ) . valero marketing & supply \" undertake \" sitara ticket # \\' s are as follows :\\nmtr . 981394 . . . . 148396\\nmtr . 988018 . . . . 148381\\nmtr . 981233 . . . . 148388\\n3 ) . valero marketing\\n981233 . . . 148384 ; 988018 . . . 148376'"
            ]
          },
          "metadata": {
            "tags": []
          },
          "execution_count": 37
        }
      ]
    },
    {
      "cell_type": "code",
      "metadata": {
        "id": "ozW8GFVgwbOX",
        "colab_type": "code",
        "colab": {
          "base_uri": "https://localhost:8080/",
          "height": 194
        },
        "outputId": "bd007942-0ef5-4332-9aa0-578803ea6c82"
      },
      "source": [
        "train_text = pd.DataFrame(texts)\n",
        "train_text.head()"
      ],
      "execution_count": 40,
      "outputs": [
        {
          "output_type": "execute_result",
          "data": {
            "text/html": [
              "<div>\n",
              "<style scoped>\n",
              "    .dataframe tbody tr th:only-of-type {\n",
              "        vertical-align: middle;\n",
              "    }\n",
              "\n",
              "    .dataframe tbody tr th {\n",
              "        vertical-align: top;\n",
              "    }\n",
              "\n",
              "    .dataframe thead th {\n",
              "        text-align: right;\n",
              "    }\n",
              "</style>\n",
              "<table border=\"1\" class=\"dataframe\">\n",
              "  <thead>\n",
              "    <tr style=\"text-align: right;\">\n",
              "      <th></th>\n",
              "      <th>0</th>\n",
              "    </tr>\n",
              "  </thead>\n",
              "  <tbody>\n",
              "    <tr>\n",
              "      <th>0</th>\n",
              "      <td>Subject: re : buyback / deficiency deals works...</td>\n",
              "    </tr>\n",
              "    <tr>\n",
              "      <th>1</th>\n",
              "      <td>Subject: fw : stress relief\\n- - - - - origina...</td>\n",
              "    </tr>\n",
              "    <tr>\n",
              "      <th>2</th>\n",
              "      <td>Subject: from mrs . juliana\\ndear friend ,\\npl...</td>\n",
              "    </tr>\n",
              "    <tr>\n",
              "      <th>3</th>\n",
              "      <td>Subject: [ wrenches ] 68 % off dreamweaver mx ...</td>\n",
              "    </tr>\n",
              "    <tr>\n",
              "      <th>4</th>\n",
              "      <td>Subject: y 2 k - texas log\\nname home pager\\ng...</td>\n",
              "    </tr>\n",
              "  </tbody>\n",
              "</table>\n",
              "</div>"
            ],
            "text/plain": [
              "                                                   0\n",
              "0  Subject: re : buyback / deficiency deals works...\n",
              "1  Subject: fw : stress relief\\n- - - - - origina...\n",
              "2  Subject: from mrs . juliana\\ndear friend ,\\npl...\n",
              "3  Subject: [ wrenches ] 68 % off dreamweaver mx ...\n",
              "4  Subject: y 2 k - texas log\\nname home pager\\ng..."
            ]
          },
          "metadata": {
            "tags": []
          },
          "execution_count": 40
        }
      ]
    },
    {
      "cell_type": "code",
      "metadata": {
        "id": "_fJ935qkxfp5",
        "colab_type": "code",
        "colab": {}
      },
      "source": [
        "train_text = train_text.rename(columns={0:'text'})"
      ],
      "execution_count": 0,
      "outputs": []
    },
    {
      "cell_type": "code",
      "metadata": {
        "id": "K7lNSK_ExfnV",
        "colab_type": "code",
        "colab": {}
      },
      "source": [
        "train = pd.concat([train_master,train_text], axis=1)"
      ],
      "execution_count": 0,
      "outputs": []
    },
    {
      "cell_type": "code",
      "metadata": {
        "id": "-gUqErsIxfk6",
        "colab_type": "code",
        "colab": {
          "base_uri": "https://localhost:8080/",
          "height": 34
        },
        "outputId": "3fb09f60-c361-4ad7-868e-fbd4c33d8f4b"
      },
      "source": [
        "gc.collect()"
      ],
      "execution_count": 44,
      "outputs": [
        {
          "output_type": "execute_result",
          "data": {
            "text/plain": [
              "630"
            ]
          },
          "metadata": {
            "tags": []
          },
          "execution_count": 44
        }
      ]
    },
    {
      "cell_type": "code",
      "metadata": {
        "id": "8FFC9-Z-x2Y8",
        "colab_type": "code",
        "colab": {
          "base_uri": "https://localhost:8080/",
          "height": 194
        },
        "outputId": "0aaabf64-08fd-48fb-aa5d-ec2500d25a34"
      },
      "source": [
        "test_text_df = pd.DataFrame(test_texts)\n",
        "test_text_df.head()"
      ],
      "execution_count": 60,
      "outputs": [
        {
          "output_type": "execute_result",
          "data": {
            "text/html": [
              "<div>\n",
              "<style scoped>\n",
              "    .dataframe tbody tr th:only-of-type {\n",
              "        vertical-align: middle;\n",
              "    }\n",
              "\n",
              "    .dataframe tbody tr th {\n",
              "        vertical-align: top;\n",
              "    }\n",
              "\n",
              "    .dataframe thead th {\n",
              "        text-align: right;\n",
              "    }\n",
              "</style>\n",
              "<table border=\"1\" class=\"dataframe\">\n",
              "  <thead>\n",
              "    <tr style=\"text-align: right;\">\n",
              "      <th></th>\n",
              "      <th>0</th>\n",
              "    </tr>\n",
              "  </thead>\n",
              "  <tbody>\n",
              "    <tr>\n",
              "      <th>0</th>\n",
              "      <td>Subject: potential list fo 9 / 00\\ndaren :\\npe...</td>\n",
              "    </tr>\n",
              "    <tr>\n",
              "      <th>1</th>\n",
              "      <td>Subject: bounce skel @ iit . demokritos . gr :...</td>\n",
              "    </tr>\n",
              "    <tr>\n",
              "      <th>2</th>\n",
              "      <td>Subject: hpl meter # 981488 paris tenaska hpl\\...</td>\n",
              "    </tr>\n",
              "    <tr>\n",
              "      <th>3</th>\n",
              "      <td>Subject: hpl nom for august 3 , 2000\\n( see at...</td>\n",
              "    </tr>\n",
              "    <tr>\n",
              "      <th>4</th>\n",
              "      <td>Subject: re : sos ! re : aep is missing 3 deal...</td>\n",
              "    </tr>\n",
              "  </tbody>\n",
              "</table>\n",
              "</div>"
            ],
            "text/plain": [
              "                                                   0\n",
              "0  Subject: potential list fo 9 / 00\\ndaren :\\npe...\n",
              "1  Subject: bounce skel @ iit . demokritos . gr :...\n",
              "2  Subject: hpl meter # 981488 paris tenaska hpl\\...\n",
              "3  Subject: hpl nom for august 3 , 2000\\n( see at...\n",
              "4  Subject: re : sos ! re : aep is missing 3 deal..."
            ]
          },
          "metadata": {
            "tags": []
          },
          "execution_count": 60
        }
      ]
    },
    {
      "cell_type": "code",
      "metadata": {
        "id": "WcTD-MKHx2WQ",
        "colab_type": "code",
        "colab": {}
      },
      "source": [
        "train_text_df = test_text_df.rename(columns={0:'text'})"
      ],
      "execution_count": 0,
      "outputs": []
    },
    {
      "cell_type": "code",
      "metadata": {
        "id": "jhWa-vlBzwi8",
        "colab_type": "code",
        "colab": {
          "base_uri": "https://localhost:8080/",
          "height": 399
        },
        "outputId": "9fef38ce-7fdf-4e3b-d94e-65bce567a1db"
      },
      "source": [
        "train_text_df"
      ],
      "execution_count": 62,
      "outputs": [
        {
          "output_type": "execute_result",
          "data": {
            "text/html": [
              "<div>\n",
              "<style scoped>\n",
              "    .dataframe tbody tr th:only-of-type {\n",
              "        vertical-align: middle;\n",
              "    }\n",
              "\n",
              "    .dataframe tbody tr th {\n",
              "        vertical-align: top;\n",
              "    }\n",
              "\n",
              "    .dataframe thead th {\n",
              "        text-align: right;\n",
              "    }\n",
              "</style>\n",
              "<table border=\"1\" class=\"dataframe\">\n",
              "  <thead>\n",
              "    <tr style=\"text-align: right;\">\n",
              "      <th></th>\n",
              "      <th>text</th>\n",
              "    </tr>\n",
              "  </thead>\n",
              "  <tbody>\n",
              "    <tr>\n",
              "      <th>0</th>\n",
              "      <td>Subject: potential list fo 9 / 00\\ndaren :\\npe...</td>\n",
              "    </tr>\n",
              "    <tr>\n",
              "      <th>1</th>\n",
              "      <td>Subject: bounce skel @ iit . demokritos . gr :...</td>\n",
              "    </tr>\n",
              "    <tr>\n",
              "      <th>2</th>\n",
              "      <td>Subject: hpl meter # 981488 paris tenaska hpl\\...</td>\n",
              "    </tr>\n",
              "    <tr>\n",
              "      <th>3</th>\n",
              "      <td>Subject: hpl nom for august 3 , 2000\\n( see at...</td>\n",
              "    </tr>\n",
              "    <tr>\n",
              "      <th>4</th>\n",
              "      <td>Subject: re : sos ! re : aep is missing 3 deal...</td>\n",
              "    </tr>\n",
              "    <tr>\n",
              "      <th>...</th>\n",
              "      <td>...</td>\n",
              "    </tr>\n",
              "    <tr>\n",
              "      <th>2580</th>\n",
              "      <td>Subject: neuro tests start january 23 th\\nchro...</td>\n",
              "    </tr>\n",
              "    <tr>\n",
              "      <th>2581</th>\n",
              "      <td>Subject: is this fri feb 11 a problem for taki...</td>\n",
              "    </tr>\n",
              "    <tr>\n",
              "      <th>2582</th>\n",
              "      <td>Subject: enron / hpl actuals for june 6 , 2000...</td>\n",
              "    </tr>\n",
              "    <tr>\n",
              "      <th>2583</th>\n",
              "      <td>Subject: hpl nomination changes for july 25 an...</td>\n",
              "    </tr>\n",
              "    <tr>\n",
              "      <th>2584</th>\n",
              "      <td>Subject: ces deals\\nrick ward manages their ac...</td>\n",
              "    </tr>\n",
              "  </tbody>\n",
              "</table>\n",
              "<p>2585 rows × 1 columns</p>\n",
              "</div>"
            ],
            "text/plain": [
              "                                                   text\n",
              "0     Subject: potential list fo 9 / 00\\ndaren :\\npe...\n",
              "1     Subject: bounce skel @ iit . demokritos . gr :...\n",
              "2     Subject: hpl meter # 981488 paris tenaska hpl\\...\n",
              "3     Subject: hpl nom for august 3 , 2000\\n( see at...\n",
              "4     Subject: re : sos ! re : aep is missing 3 deal...\n",
              "...                                                 ...\n",
              "2580  Subject: neuro tests start january 23 th\\nchro...\n",
              "2581  Subject: is this fri feb 11 a problem for taki...\n",
              "2582  Subject: enron / hpl actuals for june 6 , 2000...\n",
              "2583  Subject: hpl nomination changes for july 25 an...\n",
              "2584  Subject: ces deals\\nrick ward manages their ac...\n",
              "\n",
              "[2585 rows x 1 columns]"
            ]
          },
          "metadata": {
            "tags": []
          },
          "execution_count": 62
        }
      ]
    },
    {
      "cell_type": "code",
      "metadata": {
        "id": "NOKwPr4QzjMO",
        "colab_type": "code",
        "colab": {}
      },
      "source": [
        "test = pd.concat([sample,train_text_df], axis=1)"
      ],
      "execution_count": 0,
      "outputs": []
    },
    {
      "cell_type": "code",
      "metadata": {
        "id": "lorCFeMozy7d",
        "colab_type": "code",
        "colab": {
          "base_uri": "https://localhost:8080/",
          "height": 399
        },
        "outputId": "6abfb0c5-914c-4f5c-ac02-73bbda02d8cd"
      },
      "source": [
        "test"
      ],
      "execution_count": 64,
      "outputs": [
        {
          "output_type": "execute_result",
          "data": {
            "text/html": [
              "<div>\n",
              "<style scoped>\n",
              "    .dataframe tbody tr th:only-of-type {\n",
              "        vertical-align: middle;\n",
              "    }\n",
              "\n",
              "    .dataframe tbody tr th {\n",
              "        vertical-align: top;\n",
              "    }\n",
              "\n",
              "    .dataframe thead th {\n",
              "        text-align: right;\n",
              "    }\n",
              "</style>\n",
              "<table border=\"1\" class=\"dataframe\">\n",
              "  <thead>\n",
              "    <tr style=\"text-align: right;\">\n",
              "      <th></th>\n",
              "      <th>file_name</th>\n",
              "      <th>label</th>\n",
              "      <th>text</th>\n",
              "    </tr>\n",
              "  </thead>\n",
              "  <tbody>\n",
              "    <tr>\n",
              "      <th>0</th>\n",
              "      <td>test_0001.txt</td>\n",
              "      <td>1</td>\n",
              "      <td>Subject: potential list fo 9 / 00\\ndaren :\\npe...</td>\n",
              "    </tr>\n",
              "    <tr>\n",
              "      <th>1</th>\n",
              "      <td>test_0002.txt</td>\n",
              "      <td>0</td>\n",
              "      <td>Subject: bounce skel @ iit . demokritos . gr :...</td>\n",
              "    </tr>\n",
              "    <tr>\n",
              "      <th>2</th>\n",
              "      <td>test_0003.txt</td>\n",
              "      <td>1</td>\n",
              "      <td>Subject: hpl meter # 981488 paris tenaska hpl\\...</td>\n",
              "    </tr>\n",
              "    <tr>\n",
              "      <th>3</th>\n",
              "      <td>test_0004.txt</td>\n",
              "      <td>0</td>\n",
              "      <td>Subject: hpl nom for august 3 , 2000\\n( see at...</td>\n",
              "    </tr>\n",
              "    <tr>\n",
              "      <th>4</th>\n",
              "      <td>test_0005.txt</td>\n",
              "      <td>0</td>\n",
              "      <td>Subject: re : sos ! re : aep is missing 3 deal...</td>\n",
              "    </tr>\n",
              "    <tr>\n",
              "      <th>...</th>\n",
              "      <td>...</td>\n",
              "      <td>...</td>\n",
              "      <td>...</td>\n",
              "    </tr>\n",
              "    <tr>\n",
              "      <th>2580</th>\n",
              "      <td>test_2581.txt</td>\n",
              "      <td>0</td>\n",
              "      <td>Subject: neuro tests start january 23 th\\nchro...</td>\n",
              "    </tr>\n",
              "    <tr>\n",
              "      <th>2581</th>\n",
              "      <td>test_2582.txt</td>\n",
              "      <td>1</td>\n",
              "      <td>Subject: is this fri feb 11 a problem for taki...</td>\n",
              "    </tr>\n",
              "    <tr>\n",
              "      <th>2582</th>\n",
              "      <td>test_2583.txt</td>\n",
              "      <td>1</td>\n",
              "      <td>Subject: enron / hpl actuals for june 6 , 2000...</td>\n",
              "    </tr>\n",
              "    <tr>\n",
              "      <th>2583</th>\n",
              "      <td>test_2584.txt</td>\n",
              "      <td>0</td>\n",
              "      <td>Subject: hpl nomination changes for july 25 an...</td>\n",
              "    </tr>\n",
              "    <tr>\n",
              "      <th>2584</th>\n",
              "      <td>test_2585.txt</td>\n",
              "      <td>0</td>\n",
              "      <td>Subject: ces deals\\nrick ward manages their ac...</td>\n",
              "    </tr>\n",
              "  </tbody>\n",
              "</table>\n",
              "<p>2585 rows × 3 columns</p>\n",
              "</div>"
            ],
            "text/plain": [
              "          file_name  label                                               text\n",
              "0     test_0001.txt      1  Subject: potential list fo 9 / 00\\ndaren :\\npe...\n",
              "1     test_0002.txt      0  Subject: bounce skel @ iit . demokritos . gr :...\n",
              "2     test_0003.txt      1  Subject: hpl meter # 981488 paris tenaska hpl\\...\n",
              "3     test_0004.txt      0  Subject: hpl nom for august 3 , 2000\\n( see at...\n",
              "4     test_0005.txt      0  Subject: re : sos ! re : aep is missing 3 deal...\n",
              "...             ...    ...                                                ...\n",
              "2580  test_2581.txt      0  Subject: neuro tests start january 23 th\\nchro...\n",
              "2581  test_2582.txt      1  Subject: is this fri feb 11 a problem for taki...\n",
              "2582  test_2583.txt      1  Subject: enron / hpl actuals for june 6 , 2000...\n",
              "2583  test_2584.txt      0  Subject: hpl nomination changes for july 25 an...\n",
              "2584  test_2585.txt      0  Subject: ces deals\\nrick ward manages their ac...\n",
              "\n",
              "[2585 rows x 3 columns]"
            ]
          },
          "metadata": {
            "tags": []
          },
          "execution_count": 64
        }
      ]
    },
    {
      "cell_type": "code",
      "metadata": {
        "id": "mDJ2IqNz2mUi",
        "colab_type": "code",
        "colab": {
          "base_uri": "https://localhost:8080/",
          "height": 34
        },
        "outputId": "64e2a02d-86b4-4a0d-ca36-bf09e7cc96fa"
      },
      "source": [
        "gc.collect()"
      ],
      "execution_count": 65,
      "outputs": [
        {
          "output_type": "execute_result",
          "data": {
            "text/plain": [
              "453"
            ]
          },
          "metadata": {
            "tags": []
          },
          "execution_count": 65
        }
      ]
    },
    {
      "cell_type": "code",
      "metadata": {
        "id": "yZHJcSB2z7AG",
        "colab_type": "code",
        "colab": {
          "base_uri": "https://localhost:8080/",
          "height": 194
        },
        "outputId": "a1be2d61-571c-4641-c320-9e56749f15a5"
      },
      "source": [
        "train.head()"
      ],
      "execution_count": 66,
      "outputs": [
        {
          "output_type": "execute_result",
          "data": {
            "text/html": [
              "<div>\n",
              "<style scoped>\n",
              "    .dataframe tbody tr th:only-of-type {\n",
              "        vertical-align: middle;\n",
              "    }\n",
              "\n",
              "    .dataframe tbody tr th {\n",
              "        vertical-align: top;\n",
              "    }\n",
              "\n",
              "    .dataframe thead th {\n",
              "        text-align: right;\n",
              "    }\n",
              "</style>\n",
              "<table border=\"1\" class=\"dataframe\">\n",
              "  <thead>\n",
              "    <tr style=\"text-align: right;\">\n",
              "      <th></th>\n",
              "      <th>file_name</th>\n",
              "      <th>label</th>\n",
              "      <th>text</th>\n",
              "    </tr>\n",
              "  </thead>\n",
              "  <tbody>\n",
              "    <tr>\n",
              "      <th>0</th>\n",
              "      <td>train_0000.txt</td>\n",
              "      <td>0</td>\n",
              "      <td>Subject: re : buyback / deficiency deals works...</td>\n",
              "    </tr>\n",
              "    <tr>\n",
              "      <th>1</th>\n",
              "      <td>train_0001.txt</td>\n",
              "      <td>0</td>\n",
              "      <td>Subject: fw : stress relief\\n- - - - - origina...</td>\n",
              "    </tr>\n",
              "    <tr>\n",
              "      <th>2</th>\n",
              "      <td>train_0002.txt</td>\n",
              "      <td>1</td>\n",
              "      <td>Subject: from mrs . juliana\\ndear friend ,\\npl...</td>\n",
              "    </tr>\n",
              "    <tr>\n",
              "      <th>3</th>\n",
              "      <td>train_0003.txt</td>\n",
              "      <td>1</td>\n",
              "      <td>Subject: [ wrenches ] 68 % off dreamweaver mx ...</td>\n",
              "    </tr>\n",
              "    <tr>\n",
              "      <th>4</th>\n",
              "      <td>train_0004.txt</td>\n",
              "      <td>0</td>\n",
              "      <td>Subject: y 2 k - texas log\\nname home pager\\ng...</td>\n",
              "    </tr>\n",
              "  </tbody>\n",
              "</table>\n",
              "</div>"
            ],
            "text/plain": [
              "        file_name  label                                               text\n",
              "0  train_0000.txt      0  Subject: re : buyback / deficiency deals works...\n",
              "1  train_0001.txt      0  Subject: fw : stress relief\\n- - - - - origina...\n",
              "2  train_0002.txt      1  Subject: from mrs . juliana\\ndear friend ,\\npl...\n",
              "3  train_0003.txt      1  Subject: [ wrenches ] 68 % off dreamweaver mx ...\n",
              "4  train_0004.txt      0  Subject: y 2 k - texas log\\nname home pager\\ng..."
            ]
          },
          "metadata": {
            "tags": []
          },
          "execution_count": 66
        }
      ]
    },
    {
      "cell_type": "code",
      "metadata": {
        "id": "CC56oY-0z8cf",
        "colab_type": "code",
        "colab": {
          "base_uri": "https://localhost:8080/",
          "height": 524
        },
        "outputId": "88ccf922-61fd-4a85-f4bf-66526b53f3ed"
      },
      "source": [
        "from collections import Counter\n",
        "# spam:1, nonspam:0\n",
        "train.groupby('label')['text'].apply(lambda x: Counter(' '.join(x).split(' ')).most_common(n=30)).iloc[1]"
      ],
      "execution_count": 67,
      "outputs": [
        {
          "output_type": "execute_result",
          "data": {
            "text/plain": [
              "[('.', 7123),\n",
              " (',', 4822),\n",
              " ('-', 3428),\n",
              " ('the', 3127),\n",
              " ('/', 2418),\n",
              " ('to', 2277),\n",
              " ('and', 2112),\n",
              " ('of', 2059),\n",
              " (':', 1919),\n",
              " ('a', 1686),\n",
              " ('in', 1429),\n",
              " ('=', 1318),\n",
              " ('you', 1184),\n",
              " ('is', 1112),\n",
              " ('for', 1018),\n",
              " (\"'\", 906),\n",
              " ('this', 871),\n",
              " ('your', 799),\n",
              " ('Subject:', 747),\n",
              " ('|', 723),\n",
              " ('?', 682),\n",
              " ('s', 675),\n",
              " ('with', 668),\n",
              " ('$', 666),\n",
              " ('be', 629),\n",
              " ('that', 627),\n",
              " ('(', 619),\n",
              " (';', 611),\n",
              " ('or', 576),\n",
              " ('on', 558)]"
            ]
          },
          "metadata": {
            "tags": []
          },
          "execution_count": 67
        }
      ]
    },
    {
      "cell_type": "code",
      "metadata": {
        "id": "v_hHlsIg1cVj",
        "colab_type": "code",
        "colab": {
          "base_uri": "https://localhost:8080/",
          "height": 524
        },
        "outputId": "3395710f-c375-46fa-898f-7de516962ec3"
      },
      "source": [
        "train.groupby('label')['text'].apply(lambda x: Counter(' '.join(x).split(' ')).most_common(n=30)).iloc[0]"
      ],
      "execution_count": 71,
      "outputs": [
        {
          "output_type": "execute_result",
          "data": {
            "text/plain": [
              "[('-', 36344),\n",
              " ('/', 18457),\n",
              " (',', 13451),\n",
              " ('.', 12859),\n",
              " (':', 9028),\n",
              " ('the', 8218),\n",
              " ('to', 6040),\n",
              " ('ect', 5911),\n",
              " ('@', 5743),\n",
              " ('hou', 3698),\n",
              " ('for', 3666),\n",
              " ('and', 3665),\n",
              " ('>', 2952),\n",
              " ('a', 2878),\n",
              " ('on', 2774),\n",
              " ('of', 2723),\n",
              " ('enron', 2659),\n",
              " ('you', 2451),\n",
              " ('is', 2347),\n",
              " ('in', 2169),\n",
              " ('this', 2104),\n",
              " ('i', 2079),\n",
              " (\"'\", 2022),\n",
              " ('Subject:', 1839),\n",
              " ('be', 1835),\n",
              " ('will', 1662),\n",
              " ('(', 1620),\n",
              " ('that', 1582),\n",
              " ('2000', 1547),\n",
              " ('have', 1511)]"
            ]
          },
          "metadata": {
            "tags": []
          },
          "execution_count": 71
        }
      ]
    },
    {
      "cell_type": "code",
      "metadata": {
        "id": "gU9mOdEo0hxf",
        "colab_type": "code",
        "colab": {
          "base_uri": "https://localhost:8080/",
          "height": 54
        },
        "outputId": "ca6e74c1-2ff6-4a67-9fe5-09cf99658373"
      },
      "source": [
        "train[train['label']==1]['text'].iloc[0]"
      ],
      "execution_count": 70,
      "outputs": [
        {
          "output_type": "execute_result",
          "data": {
            "text/plain": [
              "\"Subject: from mrs . juliana\\ndear friend ,\\nplease don ' t be surprised to receive this letter from me since we do\\nnot know each other before now . i am mrs . juliana mbuluku makele , the\\nwife of late tate makele , a farmer in zimbabwe who was\\nmurdered in the land dispute in my country . i got your contact through\\nnetwork online hence decided to write you .\\nbefore the death of my husband , he made a deposit with a security firm .\\nthe consignment was declared to contain gem stones shipped on\\ndiplomatic\\ncover to avoid customs detecting the actual contents . the actual\\ncontent is the sum of us 25 . 5 million ( twenty five million , five\\nhundred\\nthousand united states dollars only ) . this was done when he noticed\\nthe\\nlooming danger in zimbabwe on land policies . the security company does\\nnot know\\nthe actual contents of the two - box out of the ten trunk boxes /\\nconsignment as it was not disclosed to them for security reasons .\\nthis mount was meant for the purchase of new agricultural machineries\\nand\\nchemicals for our farms and establishment of new farms in swaziland .\\nthis land problem came when zimbabwean president mr . robert mugabe\\nintroduced a new land act reform that wholly affected the rich white\\nfarmers and some few black farmers alike . this resulted to the killing\\nand mob action by zimbabwean war veterans and some lunatics in the\\nsociety during political elections in my country . in fact a lot of\\npeople\\nwere killed because of this land reform act for which my husband was\\none\\nof\\nthe victims .\\nit is against this background that , all my family members fled\\nzimbabwe\\nfor fear of our\\nlives . we are currently taking refuge in the ghana where we sort\\npolitical asylum . at this point , we decided to transfer my late\\nhusband ' s\\nmoney to a more\\nreliable foreign account to start profitable investments because the\\nmoney is not being used ,\\nlying in the security company .\\ni must let you know that this transaction is\\nfree from risk because i have all the necessary documents .\\nif you accept to assist us , do please contact our\\nlawyer via mail or telephone for details of what is to\\nbe done to finalize all the arrangements with\\nthe security company for the delivery of the consignment to you after\\nreaching a workable agreement with you .\\nbarrister hope martins law chambers ,\\ne - mail : hope _ martinslegal @ simbamail . fm\\nhe would conclude all arrangements with you to clear\\nthe consignment [ in which the funds are secretly packed ) already in\\nthe\\ncustody of the diplomatic firm .\\nhe would also enlighten you on the sharing ( 70 % / 30 % basis ) and the\\nsubsequent investment to be made in your country with our share with\\nyour advice\\nthis matter require maturity and trust .\\nregards ,\\nmrs . juliana mbuluku\\nfor : ( the family ) .\\nplease you can read about problems in zimbabwe from\\nthe links below :\\n\""
            ]
          },
          "metadata": {
            "tags": []
          },
          "execution_count": 70
        }
      ]
    },
    {
      "cell_type": "code",
      "metadata": {
        "id": "Dz-o5ayn0tHl",
        "colab_type": "code",
        "colab": {
          "base_uri": "https://localhost:8080/",
          "height": 296
        },
        "outputId": "e8941ad9-71c1-459d-bede-6acaa06222bd"
      },
      "source": [
        "x = train['label'].value_counts()\n",
        "sns.barplot(x.index, x)\n",
        "plt.gca().set_ylabel('samples')\n",
        "plt.gca().set_xlabel('Percent of label 1 is {:.3f}%'.format(100 * (train['label'].value_counts()[1] / train['label'].value_counts().sum())))"
      ],
      "execution_count": 81,
      "outputs": [
        {
          "output_type": "execute_result",
          "data": {
            "text/plain": [
              "Text(0.5, 0, 'Percent of label 1 is 28.886%')"
            ]
          },
          "metadata": {
            "tags": []
          },
          "execution_count": 81
        },
        {
          "output_type": "display_data",
          "data": {
            "image/png": "[encoded data removed]",
            "text/plain": [
              "<Figure size 432x288 with 1 Axes>"
            ]
          },
          "metadata": {
            "tags": []
          }
        }
      ]
    },
    {
      "cell_type": "code",
      "metadata": {
        "id": "BfhJi7Ps2Mkm",
        "colab_type": "code",
        "colab": {
          "base_uri": "https://localhost:8080/",
          "height": 356
        },
        "outputId": "1e95b834-c237-4ab0-99c5-00358a9553b2"
      },
      "source": [
        "fig,(ax1,ax2)=plt.subplots(1,2,figsize=(10,5))\n",
        "spam_len=train[train['label']==1]['text'].str.len()\n",
        "\n",
        "ax1.hist(spam_len,color='red')\n",
        "ax1.set_title('Spam Text')\n",
        "\n",
        "nonspam_len=train[train['label']==0]['text'].str.len()\n",
        "\n",
        "ax2.hist(nonspam_len,color='green')\n",
        "ax2.set_title('Nonspam Text')\n",
        "fig.suptitle('Characters in text')\n",
        "plt.show()"
      ],
      "execution_count": 83,
      "outputs": [
        {
          "output_type": "display_data",
          "data": {
            "image/png": "[encoded data removed]",
            "text/plain": [
              "<Figure size 720x360 with 2 Axes>"
            ]
          },
          "metadata": {
            "tags": []
          }
        }
      ]
    },
    {
      "cell_type": "code",
      "metadata": {
        "id": "5t27XdQj2TC7",
        "colab_type": "code",
        "colab": {
          "base_uri": "https://localhost:8080/",
          "height": 356
        },
        "outputId": "fca58de1-198b-42f3-ff01-20396b2e30e5"
      },
      "source": [
        "fig,(ax1,ax2)=plt.subplots(1,2,figsize=(10,5))\n",
        "spam_len=train[train['label']==1]['text'].str.split().map(lambda x: len(x))\n",
        "\n",
        "ax1.hist(spam_len,color='yellow')\n",
        "ax1.set_title('Spam Text')\n",
        "\n",
        "nonspam_len=train[train['label']==0]['text'].str.split().map(lambda x: len(x))\n",
        "\n",
        "ax2.hist(nonspam_len,color='blue')\n",
        "ax2.set_title('Nonspam Text')\n",
        "fig.suptitle('Words in text')\n",
        "plt.show()"
      ],
      "execution_count": 85,
      "outputs": [
        {
          "output_type": "display_data",
          "data": {
            "image/png": "[encoded data removed]",
            "text/plain": [
              "<Figure size 720x360 with 2 Axes>"
            ]
          },
          "metadata": {
            "tags": []
          }
        }
      ]
    },
    {
      "cell_type": "code",
      "metadata": {
        "id": "3whIN-vz4_q3",
        "colab_type": "code",
        "colab": {
          "base_uri": "https://localhost:8080/",
          "height": 387
        },
        "outputId": "f2769994-8c93-459c-d281-7ca73b92f720"
      },
      "source": [
        "fig,(ax1,ax2)=plt.subplots(1,2,figsize=(10,5))\n",
        "word=train[train['label']==1]['text'].str.split().apply(lambda x : [len(i) for i in x])\n",
        "sns.distplot(word.map(lambda x: np.mean(x)),ax=ax1,color='purple')\n",
        "ax1.set_title('Spam')\n",
        "word=train[train['label']==0]['text'].str.split().apply(lambda x : [len(i) for i in x])\n",
        "sns.distplot(word.map(lambda x: np.mean(x)),ax=ax2,color='green')\n",
        "ax2.set_title('Not Spam')\n",
        "\n",
        "fig.suptitle('Average word length in each text')"
      ],
      "execution_count": 88,
      "outputs": [
        {
          "output_type": "execute_result",
          "data": {
            "text/plain": [
              "Text(0.5, 0.98, 'Average word length in each text')"
            ]
          },
          "metadata": {
            "tags": []
          },
          "execution_count": 88
        },
        {
          "output_type": "display_data",
          "data": {
            "image/png": "[encoded data removed]",
            "text/plain": [
              "<Figure size 720x360 with 2 Axes>"
            ]
          },
          "metadata": {
            "tags": []
          }
        }
      ]
    },
    {
      "cell_type": "code",
      "metadata": {
        "id": "7fQpX9UxCcXq",
        "colab_type": "code",
        "colab": {}
      },
      "source": [
        "from sklearn import feature_extraction, linear_model, model_selection, preprocessing"
      ],
      "execution_count": 0,
      "outputs": []
    },
    {
      "cell_type": "code",
      "metadata": {
        "id": "rv4rMA0FCg39",
        "colab_type": "code",
        "colab": {}
      },
      "source": [
        "count_vectorizer = feature_extraction.text.CountVectorizer()\n",
        "\n",
        "train_vectors = count_vectorizer.fit_transform(train[\"text\"])\n",
        "\n",
        "test_vectors = count_vectorizer.transform(test[\"text\"])"
      ],
      "execution_count": 0,
      "outputs": []
    },
    {
      "cell_type": "code",
      "metadata": {
        "id": "joAFarDbCtIL",
        "colab_type": "code",
        "colab": {}
      },
      "source": [
        "clf = linear_model.RidgeClassifier()\n"
      ],
      "execution_count": 0,
      "outputs": []
    },
    {
      "cell_type": "code",
      "metadata": {
        "id": "vNlzRkjADLHh",
        "colab_type": "code",
        "colab": {
          "base_uri": "https://localhost:8080/",
          "height": 68
        },
        "outputId": "9470e0ea-968f-4f80-ec80-75415e1689c7"
      },
      "source": [
        "clf.fit(train_vectors, train[\"label\"])"
      ],
      "execution_count": 100,
      "outputs": [
        {
          "output_type": "execute_result",
          "data": {
            "text/plain": [
              "RidgeClassifier(alpha=1.0, class_weight=None, copy_X=True, fit_intercept=True,\n",
              "                max_iter=None, normalize=False, random_state=None,\n",
              "                solver='auto', tol=0.001)"
            ]
          },
          "metadata": {
            "tags": []
          },
          "execution_count": 100
        }
      ]
    },
    {
      "cell_type": "code",
      "metadata": {
        "id": "HjhM3GSuCwHW",
        "colab_type": "code",
        "colab": {
          "base_uri": "https://localhost:8080/",
          "height": 34
        },
        "outputId": "a1ee2595-ed1c-4fde-81d4-43dba27c89ef"
      },
      "source": [
        "scores = model_selection.cross_val_score(clf, train_vectors, train[\"label\"], cv=3, scoring=\"f1\")\n",
        "scores"
      ],
      "execution_count": 101,
      "outputs": [
        {
          "output_type": "execute_result",
          "data": {
            "text/plain": [
              "array([0.83685221, 0.82116788, 0.85931559])"
            ]
          },
          "metadata": {
            "tags": []
          },
          "execution_count": 101
        }
      ]
    },
    {
      "cell_type": "code",
      "metadata": {
        "id": "UoAS387iF54I",
        "colab_type": "code",
        "colab": {
          "base_uri": "https://localhost:8080/",
          "height": 220
        },
        "outputId": "779e3368-9f84-4e9c-9806-00bdeb75b9e7"
      },
      "source": [
        "sample = pd.read_table(path + 'sample_submit.csv', sep=',')\n",
        "sample['1']"
      ],
      "execution_count": 120,
      "outputs": [
        {
          "output_type": "execute_result",
          "data": {
            "text/plain": [
              "0       1\n",
              "1       0\n",
              "2       1\n",
              "3       0\n",
              "4       0\n",
              "       ..\n",
              "2580    0\n",
              "2581    1\n",
              "2582    1\n",
              "2583    0\n",
              "2584    0\n",
              "Name: 1, Length: 2585, dtype: int64"
            ]
          },
          "metadata": {
            "tags": []
          },
          "execution_count": 120
        }
      ]
    },
    {
      "cell_type": "code",
      "metadata": {
        "id": "bcCbO-VoIDyF",
        "colab_type": "code",
        "colab": {
          "base_uri": "https://localhost:8080/",
          "height": 34
        },
        "outputId": "24c76350-064b-4c23-954b-04e217e7f7dd"
      },
      "source": [
        "clf.predict(test_vectors)"
      ],
      "execution_count": 125,
      "outputs": [
        {
          "output_type": "execute_result",
          "data": {
            "text/plain": [
              "array([0, 1, 0, ..., 0, 0, 0])"
            ]
          },
          "metadata": {
            "tags": []
          },
          "execution_count": 125
        }
      ]
    },
    {
      "cell_type": "code",
      "metadata": {
        "id": "q-R_9NJiC6xD",
        "colab_type": "code",
        "colab": {
          "base_uri": "https://localhost:8080/",
          "height": 399
        },
        "outputId": "29e23b37-4d6d-47db-aac7-261d6240d9ba"
      },
      "source": [
        "sample['1'] = clf.predict(test_vectors)\n",
        "sample"
      ],
      "execution_count": 121,
      "outputs": [
        {
          "output_type": "execute_result",
          "data": {
            "text/html": [
              "<div>\n",
              "<style scoped>\n",
              "    .dataframe tbody tr th:only-of-type {\n",
              "        vertical-align: middle;\n",
              "    }\n",
              "\n",
              "    .dataframe tbody tr th {\n",
              "        vertical-align: top;\n",
              "    }\n",
              "\n",
              "    .dataframe thead th {\n",
              "        text-align: right;\n",
              "    }\n",
              "</style>\n",
              "<table border=\"1\" class=\"dataframe\">\n",
              "  <thead>\n",
              "    <tr style=\"text-align: right;\">\n",
              "      <th></th>\n",
              "      <th>test_0000.txt</th>\n",
              "      <th>1</th>\n",
              "    </tr>\n",
              "  </thead>\n",
              "  <tbody>\n",
              "    <tr>\n",
              "      <th>0</th>\n",
              "      <td>test_0001.txt</td>\n",
              "      <td>0</td>\n",
              "    </tr>\n",
              "    <tr>\n",
              "      <th>1</th>\n",
              "      <td>test_0002.txt</td>\n",
              "      <td>1</td>\n",
              "    </tr>\n",
              "    <tr>\n",
              "      <th>2</th>\n",
              "      <td>test_0003.txt</td>\n",
              "      <td>0</td>\n",
              "    </tr>\n",
              "    <tr>\n",
              "      <th>3</th>\n",
              "      <td>test_0004.txt</td>\n",
              "      <td>0</td>\n",
              "    </tr>\n",
              "    <tr>\n",
              "      <th>4</th>\n",
              "      <td>test_0005.txt</td>\n",
              "      <td>0</td>\n",
              "    </tr>\n",
              "    <tr>\n",
              "      <th>...</th>\n",
              "      <td>...</td>\n",
              "      <td>...</td>\n",
              "    </tr>\n",
              "    <tr>\n",
              "      <th>2580</th>\n",
              "      <td>test_2581.txt</td>\n",
              "      <td>1</td>\n",
              "    </tr>\n",
              "    <tr>\n",
              "      <th>2581</th>\n",
              "      <td>test_2582.txt</td>\n",
              "      <td>0</td>\n",
              "    </tr>\n",
              "    <tr>\n",
              "      <th>2582</th>\n",
              "      <td>test_2583.txt</td>\n",
              "      <td>0</td>\n",
              "    </tr>\n",
              "    <tr>\n",
              "      <th>2583</th>\n",
              "      <td>test_2584.txt</td>\n",
              "      <td>0</td>\n",
              "    </tr>\n",
              "    <tr>\n",
              "      <th>2584</th>\n",
              "      <td>test_2585.txt</td>\n",
              "      <td>0</td>\n",
              "    </tr>\n",
              "  </tbody>\n",
              "</table>\n",
              "<p>2585 rows × 2 columns</p>\n",
              "</div>"
            ],
            "text/plain": [
              "      test_0000.txt  1\n",
              "0     test_0001.txt  0\n",
              "1     test_0002.txt  1\n",
              "2     test_0003.txt  0\n",
              "3     test_0004.txt  0\n",
              "4     test_0005.txt  0\n",
              "...             ... ..\n",
              "2580  test_2581.txt  1\n",
              "2581  test_2582.txt  0\n",
              "2582  test_2583.txt  0\n",
              "2583  test_2584.txt  0\n",
              "2584  test_2585.txt  0\n",
              "\n",
              "[2585 rows x 2 columns]"
            ]
          },
          "metadata": {
            "tags": []
          },
          "execution_count": 121
        }
      ]
    },
    {
      "cell_type": "code",
      "metadata": {
        "id": "2-3_TRMKIJaR",
        "colab_type": "code",
        "colab": {}
      },
      "source": [
        "sample.to_csv('sub_Ridge.csv', index=False)"
      ],
      "execution_count": 0,
      "outputs": []
    },
    {
      "cell_type": "code",
      "metadata": {
        "id": "_LdwZuE1DUDs",
        "colab_type": "code",
        "colab": {}
      },
      "source": [
        "sub = test.drop('text',axis=1)\n",
        "sub = sub.rename(columns={'file_name':})\n",
        "sub.to_csv('sub_Ridge1.csv', index = False,header=None)"
      ],
      "execution_count": 0,
      "outputs": []
    },
    {
      "cell_type": "code",
      "metadata": {
        "id": "WoHZMy73F-4e",
        "colab_type": "code",
        "colab": {
          "base_uri": "https://localhost:8080/",
          "height": 47
        },
        "outputId": "a49d1306-bb32-4609-d60e-e92bce8b36f9"
      },
      "source": [
        "sub[sub['file_name']=='test_0000.txt'] == True"
      ],
      "execution_count": 111,
      "outputs": [
        {
          "output_type": "execute_result",
          "data": {
            "text/html": [
              "<div>\n",
              "<style scoped>\n",
              "    .dataframe tbody tr th:only-of-type {\n",
              "        vertical-align: middle;\n",
              "    }\n",
              "\n",
              "    .dataframe tbody tr th {\n",
              "        vertical-align: top;\n",
              "    }\n",
              "\n",
              "    .dataframe thead th {\n",
              "        text-align: right;\n",
              "    }\n",
              "</style>\n",
              "<table border=\"1\" class=\"dataframe\">\n",
              "  <thead>\n",
              "    <tr style=\"text-align: right;\">\n",
              "      <th></th>\n",
              "      <th>file_name</th>\n",
              "      <th>label</th>\n",
              "    </tr>\n",
              "  </thead>\n",
              "  <tbody>\n",
              "  </tbody>\n",
              "</table>\n",
              "</div>"
            ],
            "text/plain": [
              "Empty DataFrame\n",
              "Columns: [file_name, label]\n",
              "Index: []"
            ]
          },
          "metadata": {
            "tags": []
          },
          "execution_count": 111
        }
      ]
    },
    {
      "cell_type": "code",
      "metadata": {
        "id": "DJq44MCC7ExM",
        "colab_type": "code",
        "colab": {
          "base_uri": "https://localhost:8080/",
          "height": 981
        },
        "outputId": "2ccd0282-3eaa-4387-8538-8fb69ad29277"
      },
      "source": [
        "from nltk.corpus import stopwords\n",
        "stop=set(stopwords.words('english'))\n",
        "\n",
        "def create_corpus(target):\n",
        "  corpus - []\n",
        "\n",
        "  for x in train[train['label'] ==target]['text'].str.split():\n",
        "    for i in x:\n",
        "      corpus.append(i)\n",
        "  \n",
        "  return corpus"
      ],
      "execution_count": 90,
      "outputs": [
        {
          "output_type": "error",
          "ename": "LookupError",
          "evalue": "ignored",
          "traceback": [
            "\u001b[0;31m---------------------------------------------------------------------------\u001b[0m",
            "\u001b[0;31mLookupError\u001b[0m                               Traceback (most recent call last)",
            "\u001b[0;32m/usr/local/lib/python3.6/dist-packages/nltk/corpus/util.py\u001b[0m in \u001b[0;36m__load\u001b[0;34m(self)\u001b[0m\n\u001b[1;32m     79\u001b[0m             \u001b[0;32mexcept\u001b[0m \u001b[0mLookupError\u001b[0m \u001b[0;32mas\u001b[0m \u001b[0me\u001b[0m\u001b[0;34m:\u001b[0m\u001b[0;34m\u001b[0m\u001b[0;34m\u001b[0m\u001b[0m\n\u001b[0;32m---> 80\u001b[0;31m                 \u001b[0;32mtry\u001b[0m\u001b[0;34m:\u001b[0m \u001b[0mroot\u001b[0m \u001b[0;34m=\u001b[0m \u001b[0mnltk\u001b[0m\u001b[0;34m.\u001b[0m\u001b[0mdata\u001b[0m\u001b[0;34m.\u001b[0m\u001b[0mfind\u001b[0m\u001b[0;34m(\u001b[0m\u001b[0;34m'{}/{}'\u001b[0m\u001b[0;34m.\u001b[0m\u001b[0mformat\u001b[0m\u001b[0;34m(\u001b[0m\u001b[0mself\u001b[0m\u001b[0;34m.\u001b[0m\u001b[0msubdir\u001b[0m\u001b[0;34m,\u001b[0m \u001b[0mzip_name\u001b[0m\u001b[0;34m)\u001b[0m\u001b[0;34m)\u001b[0m\u001b[0;34m\u001b[0m\u001b[0;34m\u001b[0m\u001b[0m\n\u001b[0m\u001b[1;32m     81\u001b[0m                 \u001b[0;32mexcept\u001b[0m \u001b[0mLookupError\u001b[0m\u001b[0;34m:\u001b[0m \u001b[0;32mraise\u001b[0m \u001b[0me\u001b[0m\u001b[0;34m\u001b[0m\u001b[0;34m\u001b[0m\u001b[0m\n",
            "\u001b[0;32m/usr/local/lib/python3.6/dist-packages/nltk/data.py\u001b[0m in \u001b[0;36mfind\u001b[0;34m(resource_name, paths)\u001b[0m\n\u001b[1;32m    672\u001b[0m     \u001b[0mresource_not_found\u001b[0m \u001b[0;34m=\u001b[0m \u001b[0;34m'\\n%s\\n%s\\n%s\\n'\u001b[0m \u001b[0;34m%\u001b[0m \u001b[0;34m(\u001b[0m\u001b[0msep\u001b[0m\u001b[0;34m,\u001b[0m \u001b[0mmsg\u001b[0m\u001b[0;34m,\u001b[0m \u001b[0msep\u001b[0m\u001b[0;34m)\u001b[0m\u001b[0;34m\u001b[0m\u001b[0;34m\u001b[0m\u001b[0m\n\u001b[0;32m--> 673\u001b[0;31m     \u001b[0;32mraise\u001b[0m \u001b[0mLookupError\u001b[0m\u001b[0;34m(\u001b[0m\u001b[0mresource_not_found\u001b[0m\u001b[0;34m)\u001b[0m\u001b[0;34m\u001b[0m\u001b[0;34m\u001b[0m\u001b[0m\n\u001b[0m\u001b[1;32m    674\u001b[0m \u001b[0;34m\u001b[0m\u001b[0m\n",
            "\u001b[0;31mLookupError\u001b[0m: \n**********************************************************************\n  Resource \u001b[93mstopwords\u001b[0m not found.\n  Please use the NLTK Downloader to obtain the resource:\n\n  \u001b[31m>>> import nltk\n  >>> nltk.download('stopwords')\n  \u001b[0m\n  Searched in:\n    - '/root/nltk_data'\n    - '/usr/share/nltk_data'\n    - '/usr/local/share/nltk_data'\n    - '/usr/lib/nltk_data'\n    - '/usr/local/lib/nltk_data'\n    - '/usr/nltk_data'\n    - '/usr/lib/nltk_data'\n**********************************************************************\n",
            "\nDuring handling of the above exception, another exception occurred:\n",
            "\u001b[0;31mLookupError\u001b[0m                               Traceback (most recent call last)",
            "\u001b[0;32m<ipython-input-90-9c7e763b5a68>\u001b[0m in \u001b[0;36m<module>\u001b[0;34m()\u001b[0m\n\u001b[1;32m      1\u001b[0m \u001b[0;32mfrom\u001b[0m \u001b[0mnltk\u001b[0m\u001b[0;34m.\u001b[0m\u001b[0mcorpus\u001b[0m \u001b[0;32mimport\u001b[0m \u001b[0mstopwords\u001b[0m\u001b[0;34m\u001b[0m\u001b[0;34m\u001b[0m\u001b[0m\n\u001b[0;32m----> 2\u001b[0;31m \u001b[0mstop\u001b[0m\u001b[0;34m=\u001b[0m\u001b[0mset\u001b[0m\u001b[0;34m(\u001b[0m\u001b[0mstopwords\u001b[0m\u001b[0;34m.\u001b[0m\u001b[0mwords\u001b[0m\u001b[0;34m(\u001b[0m\u001b[0;34m'english'\u001b[0m\u001b[0;34m)\u001b[0m\u001b[0;34m)\u001b[0m\u001b[0;34m\u001b[0m\u001b[0;34m\u001b[0m\u001b[0m\n\u001b[0m\u001b[1;32m      3\u001b[0m \u001b[0;34m\u001b[0m\u001b[0m\n\u001b[1;32m      4\u001b[0m \u001b[0;32mdef\u001b[0m \u001b[0mcreate_corpus\u001b[0m\u001b[0;34m(\u001b[0m\u001b[0mtarget\u001b[0m\u001b[0;34m)\u001b[0m\u001b[0;34m:\u001b[0m\u001b[0;34m\u001b[0m\u001b[0;34m\u001b[0m\u001b[0m\n\u001b[1;32m      5\u001b[0m   \u001b[0mcorpus\u001b[0m \u001b[0;34m-\u001b[0m \u001b[0;34m[\u001b[0m\u001b[0;34m]\u001b[0m\u001b[0;34m\u001b[0m\u001b[0;34m\u001b[0m\u001b[0m\n",
            "\u001b[0;32m/usr/local/lib/python3.6/dist-packages/nltk/corpus/util.py\u001b[0m in \u001b[0;36m__getattr__\u001b[0;34m(self, attr)\u001b[0m\n\u001b[1;32m    114\u001b[0m             \u001b[0;32mraise\u001b[0m \u001b[0mAttributeError\u001b[0m\u001b[0;34m(\u001b[0m\u001b[0;34m\"LazyCorpusLoader object has no attribute '__bases__'\"\u001b[0m\u001b[0;34m)\u001b[0m\u001b[0;34m\u001b[0m\u001b[0;34m\u001b[0m\u001b[0m\n\u001b[1;32m    115\u001b[0m \u001b[0;34m\u001b[0m\u001b[0m\n\u001b[0;32m--> 116\u001b[0;31m         \u001b[0mself\u001b[0m\u001b[0;34m.\u001b[0m\u001b[0m__load\u001b[0m\u001b[0;34m(\u001b[0m\u001b[0;34m)\u001b[0m\u001b[0;34m\u001b[0m\u001b[0;34m\u001b[0m\u001b[0m\n\u001b[0m\u001b[1;32m    117\u001b[0m         \u001b[0;31m# This looks circular, but its not, since __load() changes our\u001b[0m\u001b[0;34m\u001b[0m\u001b[0;34m\u001b[0m\u001b[0;34m\u001b[0m\u001b[0m\n\u001b[1;32m    118\u001b[0m         \u001b[0;31m# __class__ to something new:\u001b[0m\u001b[0;34m\u001b[0m\u001b[0;34m\u001b[0m\u001b[0;34m\u001b[0m\u001b[0m\n",
            "\u001b[0;32m/usr/local/lib/python3.6/dist-packages/nltk/corpus/util.py\u001b[0m in \u001b[0;36m__load\u001b[0;34m(self)\u001b[0m\n\u001b[1;32m     79\u001b[0m             \u001b[0;32mexcept\u001b[0m \u001b[0mLookupError\u001b[0m \u001b[0;32mas\u001b[0m \u001b[0me\u001b[0m\u001b[0;34m:\u001b[0m\u001b[0;34m\u001b[0m\u001b[0;34m\u001b[0m\u001b[0m\n\u001b[1;32m     80\u001b[0m                 \u001b[0;32mtry\u001b[0m\u001b[0;34m:\u001b[0m \u001b[0mroot\u001b[0m \u001b[0;34m=\u001b[0m \u001b[0mnltk\u001b[0m\u001b[0;34m.\u001b[0m\u001b[0mdata\u001b[0m\u001b[0;34m.\u001b[0m\u001b[0mfind\u001b[0m\u001b[0;34m(\u001b[0m\u001b[0;34m'{}/{}'\u001b[0m\u001b[0;34m.\u001b[0m\u001b[0mformat\u001b[0m\u001b[0;34m(\u001b[0m\u001b[0mself\u001b[0m\u001b[0;34m.\u001b[0m\u001b[0msubdir\u001b[0m\u001b[0;34m,\u001b[0m \u001b[0mzip_name\u001b[0m\u001b[0;34m)\u001b[0m\u001b[0;34m)\u001b[0m\u001b[0;34m\u001b[0m\u001b[0;34m\u001b[0m\u001b[0m\n\u001b[0;32m---> 81\u001b[0;31m                 \u001b[0;32mexcept\u001b[0m \u001b[0mLookupError\u001b[0m\u001b[0;34m:\u001b[0m \u001b[0;32mraise\u001b[0m \u001b[0me\u001b[0m\u001b[0;34m\u001b[0m\u001b[0;34m\u001b[0m\u001b[0m\n\u001b[0m\u001b[1;32m     82\u001b[0m \u001b[0;34m\u001b[0m\u001b[0m\n\u001b[1;32m     83\u001b[0m         \u001b[0;31m# Load the corpus.\u001b[0m\u001b[0;34m\u001b[0m\u001b[0;34m\u001b[0m\u001b[0;34m\u001b[0m\u001b[0m\n",
            "\u001b[0;32m/usr/local/lib/python3.6/dist-packages/nltk/corpus/util.py\u001b[0m in \u001b[0;36m__load\u001b[0;34m(self)\u001b[0m\n\u001b[1;32m     76\u001b[0m         \u001b[0;32melse\u001b[0m\u001b[0;34m:\u001b[0m\u001b[0;34m\u001b[0m\u001b[0;34m\u001b[0m\u001b[0m\n\u001b[1;32m     77\u001b[0m             \u001b[0;32mtry\u001b[0m\u001b[0;34m:\u001b[0m\u001b[0;34m\u001b[0m\u001b[0;34m\u001b[0m\u001b[0m\n\u001b[0;32m---> 78\u001b[0;31m                 \u001b[0mroot\u001b[0m \u001b[0;34m=\u001b[0m \u001b[0mnltk\u001b[0m\u001b[0;34m.\u001b[0m\u001b[0mdata\u001b[0m\u001b[0;34m.\u001b[0m\u001b[0mfind\u001b[0m\u001b[0;34m(\u001b[0m\u001b[0;34m'{}/{}'\u001b[0m\u001b[0;34m.\u001b[0m\u001b[0mformat\u001b[0m\u001b[0;34m(\u001b[0m\u001b[0mself\u001b[0m\u001b[0;34m.\u001b[0m\u001b[0msubdir\u001b[0m\u001b[0;34m,\u001b[0m \u001b[0mself\u001b[0m\u001b[0;34m.\u001b[0m\u001b[0m__name\u001b[0m\u001b[0;34m)\u001b[0m\u001b[0;34m)\u001b[0m\u001b[0;34m\u001b[0m\u001b[0;34m\u001b[0m\u001b[0m\n\u001b[0m\u001b[1;32m     79\u001b[0m             \u001b[0;32mexcept\u001b[0m \u001b[0mLookupError\u001b[0m \u001b[0;32mas\u001b[0m \u001b[0me\u001b[0m\u001b[0;34m:\u001b[0m\u001b[0;34m\u001b[0m\u001b[0;34m\u001b[0m\u001b[0m\n\u001b[1;32m     80\u001b[0m                 \u001b[0;32mtry\u001b[0m\u001b[0;34m:\u001b[0m \u001b[0mroot\u001b[0m \u001b[0;34m=\u001b[0m \u001b[0mnltk\u001b[0m\u001b[0;34m.\u001b[0m\u001b[0mdata\u001b[0m\u001b[0;34m.\u001b[0m\u001b[0mfind\u001b[0m\u001b[0;34m(\u001b[0m\u001b[0;34m'{}/{}'\u001b[0m\u001b[0;34m.\u001b[0m\u001b[0mformat\u001b[0m\u001b[0;34m(\u001b[0m\u001b[0mself\u001b[0m\u001b[0;34m.\u001b[0m\u001b[0msubdir\u001b[0m\u001b[0;34m,\u001b[0m \u001b[0mzip_name\u001b[0m\u001b[0;34m)\u001b[0m\u001b[0;34m)\u001b[0m\u001b[0;34m\u001b[0m\u001b[0;34m\u001b[0m\u001b[0m\n",
            "\u001b[0;32m/usr/local/lib/python3.6/dist-packages/nltk/data.py\u001b[0m in \u001b[0;36mfind\u001b[0;34m(resource_name, paths)\u001b[0m\n\u001b[1;32m    671\u001b[0m     \u001b[0msep\u001b[0m \u001b[0;34m=\u001b[0m \u001b[0;34m'*'\u001b[0m \u001b[0;34m*\u001b[0m \u001b[0;36m70\u001b[0m\u001b[0;34m\u001b[0m\u001b[0;34m\u001b[0m\u001b[0m\n\u001b[1;32m    672\u001b[0m     \u001b[0mresource_not_found\u001b[0m \u001b[0;34m=\u001b[0m \u001b[0;34m'\\n%s\\n%s\\n%s\\n'\u001b[0m \u001b[0;34m%\u001b[0m \u001b[0;34m(\u001b[0m\u001b[0msep\u001b[0m\u001b[0;34m,\u001b[0m \u001b[0mmsg\u001b[0m\u001b[0;34m,\u001b[0m \u001b[0msep\u001b[0m\u001b[0;34m)\u001b[0m\u001b[0;34m\u001b[0m\u001b[0;34m\u001b[0m\u001b[0m\n\u001b[0;32m--> 673\u001b[0;31m     \u001b[0;32mraise\u001b[0m \u001b[0mLookupError\u001b[0m\u001b[0;34m(\u001b[0m\u001b[0mresource_not_found\u001b[0m\u001b[0;34m)\u001b[0m\u001b[0;34m\u001b[0m\u001b[0;34m\u001b[0m\u001b[0m\n\u001b[0m\u001b[1;32m    674\u001b[0m \u001b[0;34m\u001b[0m\u001b[0m\n\u001b[1;32m    675\u001b[0m \u001b[0;34m\u001b[0m\u001b[0m\n",
            "\u001b[0;31mLookupError\u001b[0m: \n**********************************************************************\n  Resource \u001b[93mstopwords\u001b[0m not found.\n  Please use the NLTK Downloader to obtain the resource:\n\n  \u001b[31m>>> import nltk\n  >>> nltk.download('stopwords')\n  \u001b[0m\n  Searched in:\n    - '/root/nltk_data'\n    - '/usr/share/nltk_data'\n    - '/usr/local/share/nltk_data'\n    - '/usr/lib/nltk_data'\n    - '/usr/local/lib/nltk_data'\n    - '/usr/nltk_data'\n    - '/usr/lib/nltk_data'\n**********************************************************************\n"
          ]
        }
      ]
    },
    {
      "cell_type": "code",
      "metadata": {
        "id": "-c73Qz58A8ZA",
        "colab_type": "code",
        "colab": {}
      },
      "source": [
        ""
      ],
      "execution_count": 0,
      "outputs": []
    }
  ]
}