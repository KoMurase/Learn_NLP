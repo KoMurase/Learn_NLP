{
  "nbformat": 4,
  "nbformat_minor": 0,
  "metadata": {
    "colab": {
      "name": "doc2vec_文書分類モデルの作成.ipynb",
      "provenance": [],
      "collapsed_sections": [],
      "authorship_tag": "ABX9TyMoPyqFPFntQoP+a++bwScz",
      "include_colab_link": true
    },
    "kernelspec": {
      "name": "python3",
      "display_name": "Python 3"
    }
  },
  "cells": [
    {
      "cell_type": "markdown",
      "metadata": {
        "id": "view-in-github",
        "colab_type": "text"
      },
      "source": [
        "<a href=\"https://colab.research.google.com/github/KoMurase/Learn_NLP/blob/master/doc2vec_%E6%96%87%E6%9B%B8%E5%88%86%E9%A1%9E%E3%83%A2%E3%83%87%E3%83%AB%E3%81%AE%E4%BD%9C%E6%88%90.ipynb\" target=\"_parent\"><img src=\"https://colab.research.google.com/assets/colab-badge.svg\" alt=\"Open In Colab\"/></a>"
      ]
    },
    {
      "cell_type": "code",
      "metadata": {
        "id": "EO7NAnRuNp-E",
        "colab_type": "code",
        "colab": {
          "base_uri": "https://localhost:8080/",
          "height": 54
        },
        "outputId": "0770745b-95eb-45a3-fb16-ae324dd4fce7"
      },
      "source": [
        "from google.colab import drive\n",
        "drive.mount('/content/drive')"
      ],
      "execution_count": 12,
      "outputs": [
        {
          "output_type": "stream",
          "text": [
            "Drive already mounted at /content/drive; to attempt to forcibly remount, call drive.mount(\"/content/drive\", force_remount=True).\n"
          ],
          "name": "stdout"
        }
      ]
    },
    {
      "cell_type": "code",
      "metadata": {
        "id": "Fdh-dc_yGPmE",
        "colab_type": "code",
        "colab": {
          "base_uri": "https://localhost:8080/",
          "height": 459
        },
        "outputId": "b5151c15-7e92-491e-85a1-3dccf1bf7387"
      },
      "source": [
        "!apt install aptitude\n",
        "!aptitude install mecab libmecab-dev mecab-ipadic-utf8 git make curl xz-utils file -y\n",
        "!pip install mecab-python3==0.7"
      ],
      "execution_count": 13,
      "outputs": [
        {
          "output_type": "stream",
          "text": [
            "Reading package lists... Done\n",
            "Building dependency tree       \n",
            "Reading state information... Done\n",
            "aptitude is already the newest version (0.8.10-6ubuntu1).\n",
            "0 upgraded, 0 newly installed, 0 to remove and 7 not upgraded.\n",
            "mecab is already installed at the requested version (0.996-5)\n",
            "libmecab-dev is already installed at the requested version (0.996-5)\n",
            "mecab-ipadic-utf8 is already installed at the requested version (2.7.0-20070801+main-1)\n",
            "git is already installed at the requested version (1:2.17.1-1ubuntu0.5)\n",
            "make is already installed at the requested version (4.1-9.1ubuntu1)\n",
            "curl is already installed at the requested version (7.58.0-2ubuntu3.8)\n",
            "xz-utils is already installed at the requested version (5.2.2-1.3)\n",
            "file is already installed at the requested version (1:5.32-2ubuntu0.3)\n",
            "mecab is already installed at the requested version (0.996-5)\n",
            "libmecab-dev is already installed at the requested version (0.996-5)\n",
            "mecab-ipadic-utf8 is already installed at the requested version (2.7.0-20070801+main-1)\n",
            "git is already installed at the requested version (1:2.17.1-1ubuntu0.5)\n",
            "make is already installed at the requested version (4.1-9.1ubuntu1)\n",
            "curl is already installed at the requested version (7.58.0-2ubuntu3.8)\n",
            "xz-utils is already installed at the requested version (5.2.2-1.3)\n",
            "file is already installed at the requested version (1:5.32-2ubuntu0.3)\n",
            "No packages will be installed, upgraded, or removed.\n",
            "0 packages upgraded, 0 newly installed, 0 to remove and 7 not upgraded.\n",
            "Need to get 0 B of archives. After unpacking 0 B will be used.\n",
            "                            \n",
            "Requirement already satisfied: mecab-python3==0.7 in /usr/local/lib/python3.6/dist-packages (0.7)\n"
          ],
          "name": "stdout"
        }
      ]
    },
    {
      "cell_type": "code",
      "metadata": {
        "id": "oz-W-ezh2a22",
        "colab_type": "code",
        "colab": {}
      },
      "source": [
        "import zipfile \n",
        "import os.path \n",
        "import urllib.request as req \n",
        "import MeCab \n",
        "from gensim import models \n",
        "from gensim.models.doc2vec import TaggedDocument \n",
        "\n"
      ],
      "execution_count": 0,
      "outputs": []
    },
    {
      "cell_type": "code",
      "metadata": {
        "id": "divhoRYWGH-Q",
        "colab_type": "code",
        "colab": {}
      },
      "source": [
        "#MeCabの初期化\n",
        " \n",
        "mecab = MeCab.Tagger()   \n",
        "mecab.parse(\"\")\n",
        "\n",
        "list = [{\n",
        "    \"author\": {\n",
        "        \"name\":\"宮沢賢治\",\n",
        "        \"url\": \"https://www.aozora.gr.jp/cards/000081/files/\",\n",
        "    },\n",
        "    \"books\":[\n",
        "             {\"name\":\"銀河鉄道の夜\",\"zipname\":\"43737_ruby_19028.zip\"},\n",
        "             {\"name\":\"注文の多い料理店\",\"zipname\":\"1927_ruby_17835.zip\"}\n",
        "             ]\n",
        "},\n",
        "{\n",
        "    \"author\": {\n",
        "        \"name\":\"芥川龍之介\",\n",
        "        \"url\": \"https://www.aozora.gr.jp/cards/000879/files/\",\n",
        "    },\n",
        "    \"books\":[\n",
        "             {\"name\":\"羅生門\",\"zipname\":\"127_ruby_150.zip\"},\n",
        "             {\"name\":\"鼻\",\"zipname\":\"42_ruby_154.zip\"}\n",
        "             ]\n",
        "},\n",
        "\n",
        "]"
      ],
      "execution_count": 0,
      "outputs": []
    },
    {
      "cell_type": "code",
      "metadata": {
        "id": "ow0OX8zWGvNW",
        "colab_type": "code",
        "colab": {}
      },
      "source": [
        "#取得したファイルループ処理に渡す\n",
        "def book_list():\n",
        "  for novelist in list:\n",
        "    author = novelist[\"author\"]\n",
        "    for book in novelist[\"books\"]:\n",
        "      yield author, book   #大きな値を返してしまうとメモリの消費がぱないのでyieldを使う"
      ],
      "execution_count": 0,
      "outputs": []
    },
    {
      "cell_type": "code",
      "metadata": {
        "id": "J6MaxAoBI48s",
        "colab_type": "code",
        "colab": {}
      },
      "source": [
        "#zipファイルを開いて中の文書を取得する\n",
        "def read_book(auther, book):\n",
        "  zipname = book[\"zipname\"]\n",
        "  #zipファイルがなければ取得する\n",
        "  if not os.path.exists(zipname):\n",
        "    req.urlretrieve(auther[\"url\"] + zipname, zipname)\n",
        "  zipname = book[\"zipname\"]\n",
        "  #zipファイルを開く\n",
        "  with zipfile.ZipFile(zipname,\"r\") as zf:\n",
        "    for filename in zf.namelist():\n",
        "      with zf.open(filename, \"r\") as f:\n",
        "        return f.read().decode(\"shift-jis\")"
      ],
      "execution_count": 0,
      "outputs": []
    },
    {
      "cell_type": "code",
      "metadata": {
        "id": "BCjZlVLxJ-IE",
        "colab_type": "code",
        "colab": {}
      },
      "source": [
        "# 分かち書きをする\n",
        "def split_words(text):\n",
        "  node = mecab.parseToNode(text)\n",
        "  wakati_words = []\n",
        "  while node is not None:\n",
        "    hinshi = node.feature.split(\",\")[0]\n",
        "    if hinshi in [\"名詞\"]:\n",
        "      wakati_words.append(node.surface)\n",
        "    elif hinshi in [\"形容詞\", \"動詞\"]:\n",
        "      wakati_words.append(node.feature.split(\",\")[6])\n",
        "    node = node.next \n",
        "  return wakati_words"
      ],
      "execution_count": 0,
      "outputs": []
    },
    {
      "cell_type": "code",
      "metadata": {
        "id": "v2-DeA4wK3ZH",
        "colab_type": "code",
        "colab": {
          "base_uri": "https://localhost:8080/",
          "height": 88
        },
        "outputId": "cbad67c0-2024-4dc8-e3de-3103897117d3"
      },
      "source": [
        "#作品リストDoc2vecが読めるTaggedDocument形式にし,配列に追加する\n",
        "documents = [] \n",
        "for auther, book in book_list():\n",
        "  words = read_book(auther,book)\n",
        "  wakati_words = split_words(words)\n",
        "  document = TaggedDocument(\n",
        "      wakati_words,[auther[\"name\"] + \":\" + book[\"name\"]]\n",
        "  )\n",
        "  documents.append(document)\n",
        "\n",
        "model = models.Doc2Vec(\n",
        "    documents,dm=1, vector_size=300,window=5,min_count=1\n",
        ")\n",
        "#dmはDoc2Vecで扱うアルゴリズム 1=dmpw, 0=DBOW\n",
        "#sizeはベクトルの次元を設定します Doc2Vecでは基本的に300が良いとされている\n",
        "#windowは学習する単語の前後数, dmpwでは5が良いとされている\n",
        "#min_countは最低何回出てきた文字列を対象とするかを設定する\n",
        "\n",
        "model.save(\"/content/drive/My Drive/akutagawa/aozora.model\")\n",
        "\n",
        "print(\"完了\")"
      ],
      "execution_count": 27,
      "outputs": [
        {
          "output_type": "stream",
          "text": [
            "完了\n"
          ],
          "name": "stdout"
        },
        {
          "output_type": "stream",
          "text": [
            "/usr/local/lib/python3.6/dist-packages/smart_open/smart_open_lib.py:402: UserWarning: This function is deprecated, use smart_open.open instead. See the migration notes for details: https://github.com/RaRe-Technologies/smart_open/blob/master/README.rst#migrating-to-the-new-open-function\n",
            "  'See the migration notes for details: %s' % _MIGRATION_NOTES_URL\n"
          ],
          "name": "stderr"
        }
      ]
    },
    {
      "cell_type": "code",
      "metadata": {
        "id": "4-BYhgX1OhIF",
        "colab_type": "code",
        "colab": {
          "base_uri": "https://localhost:8080/",
          "height": 34
        },
        "outputId": "9ef302ec-dae5-4768-8b95-8890b90ef973"
      },
      "source": [
        "type(documents)\n"
      ],
      "execution_count": 30,
      "outputs": [
        {
          "output_type": "execute_result",
          "data": {
            "text/plain": [
              "list"
            ]
          },
          "metadata": {
            "tags": []
          },
          "execution_count": 30
        }
      ]
    },
    {
      "cell_type": "code",
      "metadata": {
        "id": "ApHwjL7XOrHD",
        "colab_type": "code",
        "colab": {
          "base_uri": "https://localhost:8080/",
          "height": 34
        },
        "outputId": "18adddf0-6430-4901-b050-9327cfffe009"
      },
      "source": [
        "type(wakati_words)"
      ],
      "execution_count": 31,
      "outputs": [
        {
          "output_type": "execute_result",
          "data": {
            "text/plain": [
              "list"
            ]
          },
          "metadata": {
            "tags": []
          },
          "execution_count": 31
        }
      ]
    },
    {
      "cell_type": "code",
      "metadata": {
        "id": "R_FMy1YdOulI",
        "colab_type": "code",
        "colab": {
          "base_uri": "https://localhost:8080/",
          "height": 34
        },
        "outputId": "045694e7-f07e-4e18-b909-75787f320483"
      },
      "source": [
        "len(wakati_words)"
      ],
      "execution_count": 32,
      "outputs": [
        {
          "output_type": "execute_result",
          "data": {
            "text/plain": [
              "2123"
            ]
          },
          "metadata": {
            "tags": []
          },
          "execution_count": 32
        }
      ]
    },
    {
      "cell_type": "code",
      "metadata": {
        "id": "ED5VEyM4OxfC",
        "colab_type": "code",
        "colab": {
          "base_uri": "https://localhost:8080/",
          "height": 34
        },
        "outputId": "09c5905b-07e5-4e0e-ab0b-11fb440894f1"
      },
      "source": [
        "print(wakati_words[0],wakati_words[1],wakati_words[50])"
      ],
      "execution_count": 39,
      "outputs": [
        {
          "output_type": "stream",
          "text": [
            "鼻 芥川 列\n"
          ],
          "name": "stdout"
        }
      ]
    },
    {
      "cell_type": "markdown",
      "metadata": {
        "id": "CsqZkVzBObH7",
        "colab_type": "text"
      },
      "source": [
        "作者を分類してみる"
      ]
    },
    {
      "cell_type": "code",
      "metadata": {
        "id": "FPdjKw4CRmbC",
        "colab_type": "code",
        "colab": {
          "base_uri": "https://localhost:8080/",
          "height": 71
        },
        "outputId": "59676ebb-676c-4fa7-ca3e-1d552bdc803d"
      },
      "source": [
        "model = models.Doc2Vec.load(\"/content/drive/My Drive/akutagawa/aozora.model\")"
      ],
      "execution_count": 47,
      "outputs": [
        {
          "output_type": "stream",
          "text": [
            "/usr/local/lib/python3.6/dist-packages/smart_open/smart_open_lib.py:402: UserWarning: This function is deprecated, use smart_open.open instead. See the migration notes for details: https://github.com/RaRe-Technologies/smart_open/blob/master/README.rst#migrating-to-the-new-open-function\n",
            "  'See the migration notes for details: %s' % _MIGRATION_NOTES_URL\n"
          ],
          "name": "stderr"
        }
      ]
    },
    {
      "cell_type": "code",
      "metadata": {
        "id": "t0OudGmDQyy8",
        "colab_type": "code",
        "colab": {}
      },
      "source": [
        "def read_book2(url, zipname):\n",
        "  if not os.path.exists(zipname):\n",
        "    req.urlretrieve(url,zipname)\n",
        "  with zipfile.ZipFile(zipname,\"r\") as zf:\n",
        "    for filename in zf.namelist():\n",
        "      with zf.open(filename, \"r\") as f:\n",
        "        return f.read().decode(\"shift-jis\")"
      ],
      "execution_count": 0,
      "outputs": []
    },
    {
      "cell_type": "code",
      "metadata": {
        "id": "Ib6KWilGOLSX",
        "colab_type": "code",
        "colab": {}
      },
      "source": [
        "def similar(title, url):\n",
        "  zipname = url.split(\"/\")[-1]\n",
        "\n",
        "  words = read_book2(url,zipname)\n",
        "  wakati_words = split_words(words)\n",
        "  vector = split_words(words)\n",
        "  vector = model.infer_vector(wakati_words)\n",
        "\n",
        "  print(title+\"と似た作品は...?\")\n",
        "  print(model.docvecs.most_similar([vector],topn=3))"
      ],
      "execution_count": 0,
      "outputs": []
    },
    {
      "cell_type": "code",
      "metadata": {
        "id": "tbtm3uPhQUNH",
        "colab_type": "code",
        "colab": {
          "base_uri": "https://localhost:8080/",
          "height": 105
        },
        "outputId": "2b95abf8-f344-49d5-fd1b-43bd9738ba18"
      },
      "source": [
        "similar(\"芥川龍之介:犬と猫\",\n",
        "        \"https://www.aozora.gr.jp/cards/000879/files/56_ruby_845.zip\")"
      ],
      "execution_count": 52,
      "outputs": [
        {
          "output_type": "stream",
          "text": [
            "芥川龍之介:犬と猫と似た作品は...?\n",
            "[('芥川龍之介:鼻', 0.9997143149375916), ('芥川龍之介:羅生門', 0.9996194839477539), ('宮沢賢治:注文の多い料理店', 0.9991310238838196)]\n"
          ],
          "name": "stdout"
        },
        {
          "output_type": "stream",
          "text": [
            "/usr/local/lib/python3.6/dist-packages/gensim/matutils.py:737: FutureWarning: Conversion of the second argument of issubdtype from `int` to `np.signedinteger` is deprecated. In future, it will be treated as `np.int64 == np.dtype(int).type`.\n",
            "  if np.issubdtype(vec.dtype, np.int):\n"
          ],
          "name": "stderr"
        }
      ]
    },
    {
      "cell_type": "code",
      "metadata": {
        "id": "Z1Mbm98rQqvj",
        "colab_type": "code",
        "colab": {}
      },
      "source": [
        ""
      ],
      "execution_count": 0,
      "outputs": []
    }
  ]
}