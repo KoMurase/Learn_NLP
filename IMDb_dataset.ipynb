{
  "nbformat": 4,
  "nbformat_minor": 0,
  "metadata": {
    "colab": {
      "name": "IMDb_dataset.ipynb",
      "provenance": [],
      "authorship_tag": "ABX9TyObcGrFQ/baFVP00KKW29Fg",
      "include_colab_link": true
    },
    "kernelspec": {
      "name": "python3",
      "display_name": "Python 3"
    }
  },
  "cells": [
    {
      "cell_type": "markdown",
      "metadata": {
        "id": "view-in-github",
        "colab_type": "text"
      },
      "source": [
        "<a href=\"https://colab.research.google.com/github/KoMurase/Learn_NLP/blob/master/IMDb_dataset.ipynb\" target=\"_parent\"><img src=\"https://colab.research.google.com/assets/colab-badge.svg\" alt=\"Open In Colab\"/></a>"
      ]
    },
    {
      "cell_type": "code",
      "metadata": {
        "id": "_eFNChcdLDG_",
        "colab_type": "code",
        "colab": {}
      },
      "source": [
        "from keras.datasets import imdb \n",
        "from keras import preprocessing \n",
        "\n",
        "#特徴量として考慮する単語の数\n",
        "max_features = 10000 \n",
        "\n",
        "#max_features個の最も出現率の高い単語のうち\n",
        "#max_len個の単語のテキストをカット\n",
        "max_len = 20 \n",
        "\n",
        "#データを複数の整数のリストとして読み込む\n",
        "(x_train, y_train), (x_test, y_test) = imdb.load_data(num_words = max_features)\n",
        "\n",
        "#整数のリストの形状が(samples, max_len)の2次元テンソルに変換\n",
        "x_train = preprocessing.sequence.pad_sequences(x_train, maxlen = max_len)\n",
        "x_test = preprocessing.sequence.pad_sequences(x_test, maxlen = max_len)"
      ],
      "execution_count": 0,
      "outputs": []
    },
    {
      "cell_type": "code",
      "metadata": {
        "id": "dtLzsq64Pcn9",
        "colab_type": "code",
        "colab": {
          "base_uri": "https://localhost:8080/",
          "height": 33
        },
        "outputId": "833cb8d2-819e-4807-ecea-809cde9a4b35"
      },
      "source": [
        "imdb.load_data"
      ],
      "execution_count": 13,
      "outputs": [
        {
          "output_type": "execute_result",
          "data": {
            "text/plain": [
              "<function keras.datasets.imdb.load_data>"
            ]
          },
          "metadata": {
            "tags": []
          },
          "execution_count": 13
        }
      ]
    },
    {
      "cell_type": "code",
      "metadata": {
        "id": "xNymrbs7PWjg",
        "colab_type": "code",
        "colab": {
          "base_uri": "https://localhost:8080/",
          "height": 134
        },
        "outputId": "7e35cde0-0ac6-40c1-c54d-4bde7670382a"
      },
      "source": [
        "x_train"
      ],
      "execution_count": 14,
      "outputs": [
        {
          "output_type": "execute_result",
          "data": {
            "text/plain": [
              "array([[  65,   16,   38, ...,   19,  178,   32],\n",
              "       [  23,    4, 1690, ...,   16,  145,   95],\n",
              "       [1352,   13,  191, ...,    7,  129,  113],\n",
              "       ...,\n",
              "       [  11, 1818, 7561, ...,    4, 3586,    2],\n",
              "       [  92,  401,  728, ...,   12,    9,   23],\n",
              "       [ 764,   40,    4, ...,  204,  131,    9]], dtype=int32)"
            ]
          },
          "metadata": {
            "tags": []
          },
          "execution_count": 14
        }
      ]
    },
    {
      "cell_type": "code",
      "metadata": {
        "id": "U-2IYKFYPbLB",
        "colab_type": "code",
        "colab": {
          "base_uri": "https://localhost:8080/",
          "height": 134
        },
        "outputId": "9f95921f-7fe2-4fa7-b6b1-f862e29a12de"
      },
      "source": [
        "x_test"
      ],
      "execution_count": 15,
      "outputs": [
        {
          "output_type": "execute_result",
          "data": {
            "text/plain": [
              "array([[ 286,  170,    8, ...,   14,    6,  717],\n",
              "       [  10,   10,  472, ...,  125,    4, 3077],\n",
              "       [  34,    2,   45, ...,    9,   57,  975],\n",
              "       ...,\n",
              "       [ 226,   20,  272, ...,   21,  846, 5518],\n",
              "       [  55,  117,  212, ..., 2302,    7,  470],\n",
              "       [  19,   14,   20, ...,   34, 2005, 2643]], dtype=int32)"
            ]
          },
          "metadata": {
            "tags": []
          },
          "execution_count": 15
        }
      ]
    },
    {
      "cell_type": "code",
      "metadata": {
        "id": "OfgY-d_BMSHx",
        "colab_type": "code",
        "colab": {
          "base_uri": "https://localhost:8080/",
          "height": 251
        },
        "outputId": "be57ee67-c5c9-4c60-cf32-ba6b05d207b7"
      },
      "source": [
        "from keras.models import Sequential \n",
        "from keras.layers import Flatten, Dense, Embedding \n",
        "\n",
        "model = Sequential()\n",
        "\n",
        "#畳み込み埋め込み入力を平坦化できるように\n",
        "#Embedding層に入力の長さとしてmax_lenを指定\n",
        "#Embedding層の後、活性化の形状は(sample, max_len, 8)になる\n",
        "model.add(Embedding(10000, 8, input_length = max_len))\n",
        "\n",
        "#埋め込みの三次元テンソルを形状が(samples, max_len * 8)の2次元テンソルに変換\n",
        "model.add(Flatten())\n",
        "\n",
        "#最後に分類器を追加\n",
        "model.add(Dense(1, activation='sigmoid'))\n",
        "model.compile(optimizer='rmsprop', loss='binary_crossentropy', metrics=['acc'])\n",
        "model.summary()"
      ],
      "execution_count": 16,
      "outputs": [
        {
          "output_type": "stream",
          "text": [
            "Model: \"sequential_2\"\n",
            "_________________________________________________________________\n",
            "Layer (type)                 Output Shape              Param #   \n",
            "=================================================================\n",
            "embedding_2 (Embedding)      (None, 20, 8)             80000     \n",
            "_________________________________________________________________\n",
            "flatten_2 (Flatten)          (None, 160)               0         \n",
            "_________________________________________________________________\n",
            "dense_2 (Dense)              (None, 1)                 161       \n",
            "=================================================================\n",
            "Total params: 80,161\n",
            "Trainable params: 80,161\n",
            "Non-trainable params: 0\n",
            "_________________________________________________________________\n"
          ],
          "name": "stdout"
        }
      ]
    },
    {
      "cell_type": "code",
      "metadata": {
        "id": "Z5ZNDL1lO9kP",
        "colab_type": "code",
        "colab": {
          "base_uri": "https://localhost:8080/",
          "height": 368
        },
        "outputId": "77ea4139-9ede-4464-eafe-289845758319"
      },
      "source": [
        "history = model.fit(x_train, y_train, epochs=10, batch_size=32, validation_split=0.2)"
      ],
      "execution_count": 17,
      "outputs": [
        {
          "output_type": "stream",
          "text": [
            "Train on 20000 samples, validate on 5000 samples\n",
            "Epoch 1/10\n",
            "20000/20000 [==============================] - 2s 87us/step - loss: 0.6692 - acc: 0.6260 - val_loss: 0.6153 - val_acc: 0.7088\n",
            "Epoch 2/10\n",
            "20000/20000 [==============================] - 2s 78us/step - loss: 0.5381 - acc: 0.7539 - val_loss: 0.5219 - val_acc: 0.7356\n",
            "Epoch 3/10\n",
            "20000/20000 [==============================] - 2s 75us/step - loss: 0.4590 - acc: 0.7889 - val_loss: 0.4974 - val_acc: 0.7498\n",
            "Epoch 4/10\n",
            "20000/20000 [==============================] - 1s 73us/step - loss: 0.4204 - acc: 0.8110 - val_loss: 0.4910 - val_acc: 0.7562\n",
            "Epoch 5/10\n",
            "20000/20000 [==============================] - 1s 70us/step - loss: 0.3941 - acc: 0.8236 - val_loss: 0.4934 - val_acc: 0.7546\n",
            "Epoch 6/10\n",
            "20000/20000 [==============================] - 1s 74us/step - loss: 0.3732 - acc: 0.8348 - val_loss: 0.4948 - val_acc: 0.7572\n",
            "Epoch 7/10\n",
            "20000/20000 [==============================] - 2s 77us/step - loss: 0.3546 - acc: 0.8457 - val_loss: 0.5006 - val_acc: 0.7568\n",
            "Epoch 8/10\n",
            "20000/20000 [==============================] - 1s 74us/step - loss: 0.3374 - acc: 0.8559 - val_loss: 0.5073 - val_acc: 0.7544\n",
            "Epoch 9/10\n",
            "20000/20000 [==============================] - 2s 78us/step - loss: 0.3209 - acc: 0.8647 - val_loss: 0.5132 - val_acc: 0.7524\n",
            "Epoch 10/10\n",
            "20000/20000 [==============================] - 2s 75us/step - loss: 0.3047 - acc: 0.8724 - val_loss: 0.5212 - val_acc: 0.7474\n"
          ],
          "name": "stdout"
        }
      ]
    },
    {
      "cell_type": "code",
      "metadata": {
        "id": "0weSGXFyPQVG",
        "colab_type": "code",
        "colab": {}
      },
      "source": [
        ""
      ],
      "execution_count": 0,
      "outputs": []
    }
  ]
}