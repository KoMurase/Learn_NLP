{
  "nbformat": 4,
  "nbformat_minor": 0,
  "metadata": {
    "colab": {
      "name": "torch_text.ipynb",
      "provenance": [],
      "collapsed_sections": [],
      "mount_file_id": "1KUhLppXzfADbSM6BpX-nK_FwbxipZf-e",
      "authorship_tag": "ABX9TyNYqeYSvqohnYk2ISMDgMVk",
      "include_colab_link": true
    },
    "kernelspec": {
      "name": "python3",
      "display_name": "Python 3"
    }
  },
  "cells": [
    {
      "cell_type": "markdown",
      "metadata": {
        "id": "view-in-github",
        "colab_type": "text"
      },
      "source": [
        "<a href=\"https://colab.research.google.com/github/KoMurase/Learn_NLP/blob/master/torch_text.ipynb\" target=\"_parent\"><img src=\"https://colab.research.google.com/assets/colab-badge.svg\" alt=\"Open In Colab\"/></a>"
      ]
    },
    {
      "cell_type": "code",
      "metadata": {
        "id": "tc2EnAoGcQV2",
        "colab_type": "code",
        "outputId": "1e8af8db-45c6-45e4-8c90-0aad48b34701",
        "colab": {
          "base_uri": "https://localhost:8080/",
          "height": 100
        }
      },
      "source": [
        "!pip install janome"
      ],
      "execution_count": 1,
      "outputs": [
        {
          "output_type": "stream",
          "text": [
            "Collecting janome\n",
            "\u001b[?25l  Downloading https://files.pythonhosted.org/packages/79/f0/bd7f90806132d7d9d642d418bdc3e870cfdff5947254ea3cab27480983a7/Janome-0.3.10-py2.py3-none-any.whl (21.5MB)\n",
            "\u001b[K     |████████████████████████████████| 21.5MB 1.4MB/s \n",
            "\u001b[?25hInstalling collected packages: janome\n",
            "Successfully installed janome-0.3.10\n"
          ],
          "name": "stdout"
        }
      ]
    },
    {
      "cell_type": "code",
      "metadata": {
        "id": "fQ7trERHaKUp",
        "colab_type": "code",
        "colab": {}
      },
      "source": [
        "from janome.tokenizer import Tokenizer \n",
        "\n",
        "j_t = Tokenizer()\n",
        "\n",
        "def tokenizer_janome(text):\n",
        "  return [tok for tok in j_t.tokenize(text, wakati = True)]"
      ],
      "execution_count": 0,
      "outputs": []
    },
    {
      "cell_type": "code",
      "metadata": {
        "id": "iCptox_SYh8z",
        "colab_type": "code",
        "colab": {}
      },
      "source": [
        "#前処理用関数\n",
        "import re \n",
        "\n",
        "def preprocessing_text(text):\n",
        "  #英文字の小文字化\n",
        "  #output = output.lower()\n",
        "\n",
        "  # 改行コード、全角、半角の削除　\n",
        "  text = re.sub('\\r', '', text)  \n",
        "  text = re.sub('\\n', '', text)  \n",
        "  text = re.sub('　', '', text)\n",
        "  text = re.sub(' ', '', text)\n",
        "\n",
        "  #数字文字の一律化\n",
        "  text = re.sub(r'[0-9 0-9]', '0', text)\n",
        "\n",
        "  return text"
      ],
      "execution_count": 0,
      "outputs": []
    },
    {
      "cell_type": "code",
      "metadata": {
        "id": "S7QjyXOYZ7v8",
        "colab_type": "code",
        "colab": {}
      },
      "source": [
        "def tokenizer_with_preprocessing(text):\n",
        "  text = preprocessing_text(text)\n",
        "  ret = tokenizer_janome(text)\n",
        "\n",
        "  return ret "
      ],
      "execution_count": 0,
      "outputs": []
    },
    {
      "cell_type": "code",
      "metadata": {
        "id": "BEgPxM3ObtUi",
        "colab_type": "code",
        "outputId": "22508a90-2e49-41d4-c344-8bbddac2fb1a",
        "colab": {
          "base_uri": "https://localhost:8080/",
          "height": 33
        }
      },
      "source": [
        "text = \"最近、　コロナウイルスで 自粛して家にいる。今は19時33分だ。\"\n",
        "print(tokenizer_with_preprocessing(text))"
      ],
      "execution_count": 5,
      "outputs": [
        {
          "output_type": "stream",
          "text": [
            "['最近', '、', 'コロナ', 'ウイルス', 'で', '自粛', 'し', 'て', '家', 'に', 'いる', '。', '今', 'は', '00', '時', '00', '分', 'だ', '。']\n"
          ],
          "name": "stdout"
        }
      ]
    },
    {
      "cell_type": "code",
      "metadata": {
        "id": "AHkelkmHcU49",
        "colab_type": "code",
        "colab": {}
      },
      "source": [
        "path = '/content/drive/My Drive/pytorch_nlp/'"
      ],
      "execution_count": 0,
      "outputs": []
    },
    {
      "cell_type": "code",
      "metadata": {
        "id": "gqxXhtP5gNe9",
        "colab_type": "code",
        "outputId": "2e81d7e0-f183-4f3e-96eb-a7f61dbf89d7",
        "colab": {
          "base_uri": "https://localhost:8080/",
          "height": 50
        }
      },
      "source": [
        "import pandas as pd\n",
        "import matplotlib.pyplot as plt \n",
        "import numpy as np \n",
        "import seaborn as sns \n"
      ],
      "execution_count": 7,
      "outputs": [
        {
          "output_type": "stream",
          "text": [
            "/usr/local/lib/python3.6/dist-packages/statsmodels/tools/_testing.py:19: FutureWarning: pandas.util.testing is deprecated. Use the functions in the public API at pandas.testing instead.\n",
            "  import pandas.util.testing as tm\n"
          ],
          "name": "stderr"
        }
      ]
    },
    {
      "cell_type": "code",
      "metadata": {
        "id": "vZrCBOOQgXll",
        "colab_type": "code",
        "colab": {}
      },
      "source": [
        "import torchtext \n",
        "#文章データの読み込み\n",
        "#torch.data.Fieldの引数で実行する前処理が指定できる\n",
        "\n",
        "max_length = 25 \n",
        "\n",
        "TEXT = torchtext.data.Field(\n",
        "    sequential = True, #データの長さが可変かどうか。ラベルデータにはFalseを適用する\n",
        "    tokenize = tokenizer_with_preprocessing, #上で定義したやつ  ### ←ここ強化する\n",
        "    use_vocab = True, #単語をボキャブラリーに追加するかどうか \n",
        "    lower = True, #アルファベットを小文字にするかどうか \n",
        "    include_lengths = True,  #文章の単語数のデータを保持するかどうか \n",
        "    batch_first = True, #ミニバッチの次元を先頭に保持するかどうか \n",
        "    fix_length = max_length  #全部の文章を指定した長さと同じになるように paddingする\n",
        ")\n",
        "\n",
        "LABEL = torchtext.data.Field(\n",
        "    sequential = False, \n",
        "    use_vocab = False, \n",
        ")"
      ],
      "execution_count": 0,
      "outputs": []
    },
    {
      "cell_type": "code",
      "metadata": {
        "id": "VUdZzU89g69j",
        "colab_type": "code",
        "colab": {}
      },
      "source": [
        "path = '/content/drive/My Drive/pytorch_nlp/'"
      ],
      "execution_count": 0,
      "outputs": []
    },
    {
      "cell_type": "code",
      "metadata": {
        "id": "wfns9MgijJ1e",
        "colab_type": "code",
        "colab": {}
      },
      "source": [
        "train_ds, val_ds, test_ds = torchtext.data.TabularDataset.splits(\n",
        "    path = path, train = 'sample1.csv', \n",
        "    validation = 'sample2.csv',\n",
        "    test = 'sample3.csv',\n",
        "    format = 'csv',\n",
        "    skip_header=True,   ###　headerを読み込まない処理\n",
        "    fields = [('Label', LABEL),('Text', TEXT)]\n",
        ")"
      ],
      "execution_count": 0,
      "outputs": []
    },
    {
      "cell_type": "code",
      "metadata": {
        "id": "5wFJEFcQlJjm",
        "colab_type": "code",
        "outputId": "7cb6dbd5-3908-4090-b0c5-974f95d8771d",
        "colab": {
          "base_uri": "https://localhost:8080/",
          "height": 33
        }
      },
      "source": [
        "train_ds"
      ],
      "execution_count": 15,
      "outputs": [
        {
          "output_type": "execute_result",
          "data": {
            "text/plain": [
              "<torchtext.data.dataset.TabularDataset at 0x7fc94c76be48>"
            ]
          },
          "metadata": {
            "tags": []
          },
          "execution_count": 15
        }
      ]
    },
    {
      "cell_type": "code",
      "metadata": {
        "id": "_MrcBZ5SjkD3",
        "colab_type": "code",
        "outputId": "8f2cfbe8-a5fb-4b0d-d719-fe6e3bd61073",
        "colab": {
          "base_uri": "https://localhost:8080/",
          "height": 70
        }
      },
      "source": [
        "#動作確認\n",
        "print('訓練データの数', len(train_ds))\n",
        "print('訓練データ[1]', vars(train_ds))"
      ],
      "execution_count": 16,
      "outputs": [
        {
          "output_type": "stream",
          "text": [
            "訓練データの数 10\n",
            "訓練データ[1] {'examples': [<torchtext.data.example.Example object at 0x7fc94c76bf60>, <torchtext.data.example.Example object at 0x7fc94c76bf98>, <torchtext.data.example.Example object at 0x7fc94c76bfd0>, <torchtext.data.example.Example object at 0x7fc94c6cc0f0>, <torchtext.data.example.Example object at 0x7fc94c6cc1d0>, <torchtext.data.example.Example object at 0x7fc94c6cc048>, <torchtext.data.example.Example object at 0x7fc94c6cc160>, <torchtext.data.example.Example object at 0x7fc94c6cc630>, <torchtext.data.example.Example object at 0x7fc94c6cc240>, <torchtext.data.example.Example object at 0x7fc94c6cc828>], 'fields': {'Label': <torchtext.data.field.Field object at 0x7fc999e23e48>, 'Text': <torchtext.data.field.Field object at 0x7fc999e23e80>}}\n"
          ],
          "name": "stdout"
        }
      ]
    },
    {
      "cell_type": "code",
      "metadata": {
        "id": "7cF6W6_Ftl9n",
        "colab_type": "code",
        "outputId": "459fc62b-f502-4c2d-d7cf-8d29b882d0ee",
        "colab": {
          "base_uri": "https://localhost:8080/",
          "height": 33
        }
      },
      "source": [
        "print('訓練データ[1]', vars(train_ds[0])['Text'])"
      ],
      "execution_count": 17,
      "outputs": [
        {
          "output_type": "stream",
          "text": [
            "訓練データ[1] ['【', 'マイ', 'リスト', '】', 'カカカカ', '覚醒剤', 'https', '://', 't', '.', 'co', '/', '00', 'zy', '0', 'oa', '0', 'qs', '#', 'sm', '00000000']\n"
          ],
          "name": "stdout"
        }
      ]
    },
    {
      "cell_type": "code",
      "metadata": {
        "id": "wSIaYKbjkUZx",
        "colab_type": "code",
        "colab": {
          "base_uri": "https://localhost:8080/",
          "height": 33
        },
        "outputId": "a387461a-d006-402c-94a9-adbbd0cfad7c"
      },
      "source": [
        "print('訓練データ[1]', vars(train_ds[0])['Label'])"
      ],
      "execution_count": 18,
      "outputs": [
        {
          "output_type": "stream",
          "text": [
            "訓練データ[1] 0\n"
          ],
          "name": "stdout"
        }
      ]
    },
    {
      "cell_type": "code",
      "metadata": {
        "id": "tMOtj4StqIW2",
        "colab_type": "code",
        "outputId": "5c9f48c6-a162-4742-ccf5-6bd168c1731a",
        "colab": {
          "base_uri": "https://localhost:8080/",
          "height": 50
        }
      },
      "source": [
        "#動作確認\n",
        "print('訓練データの数', len(train_ds))\n",
        "print('訓練データ[1]', vars(train_ds[1])['Text'])"
      ],
      "execution_count": 19,
      "outputs": [
        {
          "output_type": "stream",
          "text": [
            "訓練データの数 10\n",
            "訓練データ[1] ['@', 'kenjikenji', '0000', 'せ', 'や', 'な', '落雷', '撃た', 'れ', 'たら', '全員', '張り付く', 'しか', 'なかっ', 'た', 'から', 'なぁ', 'なん', 'で', '速攻', 'で', '雷', '銅', '狙い', 'に', '行っ', 'た', 'わ']\n"
          ],
          "name": "stdout"
        }
      ]
    },
    {
      "cell_type": "code",
      "metadata": {
        "id": "yx0UI6nQqQj_",
        "colab_type": "code",
        "colab": {}
      },
      "source": [
        "TEXT.build_vocab(train_ds, min_freq=1)\n",
        "#訓練データtrainの単語からmin_freqの以上の頻度の単語を使用して単語集を構築する\n"
      ],
      "execution_count": 0,
      "outputs": []
    },
    {
      "cell_type": "code",
      "metadata": {
        "id": "LfRTMBOnkhBD",
        "colab_type": "code",
        "colab": {
          "base_uri": "https://localhost:8080/",
          "height": 1000
        },
        "outputId": "884c3d57-b6c0-43be-9628-2d71c8c9e868"
      },
      "source": [
        "TEXT.vocab.freqs"
      ],
      "execution_count": 23,
      "outputs": [
        {
          "output_type": "execute_result",
          "data": {
            "text/plain": [
              "Counter({'#': 1,\n",
              "         '-': 2,\n",
              "         '.': 3,\n",
              "         '...': 1,\n",
              "         '/': 4,\n",
              "         '0': 6,\n",
              "         '00': 3,\n",
              "         '0000': 3,\n",
              "         '00000000': 1,\n",
              "         '://': 3,\n",
              "         '@': 2,\n",
              "         '[': 1,\n",
              "         ']': 1,\n",
              "         'co': 3,\n",
              "         'etc': 1,\n",
              "         'gw': 1,\n",
              "         'https': 3,\n",
              "         'i': 1,\n",
              "         'it': 1,\n",
              "         'jadevalerie': 1,\n",
              "         'kenjikenji': 1,\n",
              "         'livingbynumbers': 1,\n",
              "         'ltejjx': 1,\n",
              "         'mr': 1,\n",
              "         'n': 1,\n",
              "         'oa': 1,\n",
              "         'p': 1,\n",
              "         'qs': 1,\n",
              "         'rdj': 1,\n",
              "         'sm': 1,\n",
              "         't': 4,\n",
              "         'uiz': 1,\n",
              "         'w': 1,\n",
              "         'yt': 1,\n",
              "         'zy': 1,\n",
              "         '…': 1,\n",
              "         '⇒「': 1,\n",
              "         '♪': 1,\n",
              "         '、': 11,\n",
              "         '。': 15,\n",
              "         '「': 3,\n",
              "         '」': 4,\n",
              "         '【': 3,\n",
              "         '】': 3,\n",
              "         '〜': 1,\n",
              "         'あげ': 1,\n",
              "         'あなた': 1,\n",
              "         'あの': 1,\n",
              "         'ある': 2,\n",
              "         'い': 2,\n",
              "         'いし': 2,\n",
              "         'いる': 4,\n",
              "         'いわし': 1,\n",
              "         'うえ': 1,\n",
              "         'うーん': 1,\n",
              "         'おすすめ': 1,\n",
              "         'お化け': 1,\n",
              "         'か': 1,\n",
              "         'かけ': 1,\n",
              "         'から': 1,\n",
              "         'が': 10,\n",
              "         'き': 1,\n",
              "         'けど': 4,\n",
              "         'こと': 2,\n",
              "         'この': 1,\n",
              "         'ご': 2,\n",
              "         'さ': 4,\n",
              "         'し': 3,\n",
              "         'しか': 1,\n",
              "         'しばしば': 1,\n",
              "         'じゃん': 1,\n",
              "         'すごい': 1,\n",
              "         'する': 1,\n",
              "         'せ': 2,\n",
              "         'そう': 1,\n",
              "         'そこで': 1,\n",
              "         'その': 1,\n",
              "         'そのうえ': 1,\n",
              "         'それ': 2,\n",
              "         'た': 6,\n",
              "         'たい': 4,\n",
              "         'ただ': 1,\n",
              "         'たち': 1,\n",
              "         'たま': 2,\n",
              "         'たら': 1,\n",
              "         'だ': 4,\n",
              "         'ちなみに': 1,\n",
              "         'って': 1,\n",
              "         'て': 13,\n",
              "         'で': 12,\n",
              "         'できる': 1,\n",
              "         'です': 1,\n",
              "         'と': 6,\n",
              "         'とか': 1,\n",
              "         'として': 1,\n",
              "         'な': 5,\n",
              "         'なぁ': 1,\n",
              "         'ない': 2,\n",
              "         'なかっ': 1,\n",
              "         'なっ': 2,\n",
              "         'なに': 1,\n",
              "         'なり': 1,\n",
              "         'なる': 3,\n",
              "         'なん': 1,\n",
              "         'なんて': 1,\n",
              "         'に': 20,\n",
              "         'の': 16,\n",
              "         'ので': 1,\n",
              "         'は': 10,\n",
              "         'ほう': 1,\n",
              "         'ます': 2,\n",
              "         'まで': 1,\n",
              "         'も': 6,\n",
              "         'もんどり': 1,\n",
              "         'や': 3,\n",
              "         'よう': 2,\n",
              "         'より': 2,\n",
              "         'れ': 4,\n",
              "         'わ': 1,\n",
              "         'を': 8,\n",
              "         'ん': 1,\n",
              "         'アメリカンサイコ': 1,\n",
              "         'エグ': 2,\n",
              "         'カカカカ': 1,\n",
              "         'カフェイン': 2,\n",
              "         'クレイジー': 1,\n",
              "         'グロ': 1,\n",
              "         'シーン': 1,\n",
              "         'ジュブナイル': 1,\n",
              "         'スプラッタ': 1,\n",
              "         'ゾクゾク': 1,\n",
              "         'チーズ': 1,\n",
              "         'テ': 1,\n",
              "         'ティノ': 2,\n",
              "         'ハリケーン': 1,\n",
              "         'ピクニック': 1,\n",
              "         'ブラジル': 1,\n",
              "         'ベール': 1,\n",
              "         'ホット': 2,\n",
              "         'ホラー': 1,\n",
              "         'ホームレス': 1,\n",
              "         'マイ': 1,\n",
              "         'マラソン': 1,\n",
              "         'リスト': 1,\n",
              "         '・': 3,\n",
              "         '一緒': 1,\n",
              "         '中': 2,\n",
              "         '交感神経': 1,\n",
              "         '人': 2,\n",
              "         '他': 1,\n",
              "         '伴う': 1,\n",
              "         '住ん': 1,\n",
              "         '体': 1,\n",
              "         '体内': 1,\n",
              "         '余計': 1,\n",
              "         '候補': 1,\n",
              "         '全員': 1,\n",
              "         '出': 1,\n",
              "         '分解': 1,\n",
              "         '刺激': 1,\n",
              "         '前': 1,\n",
              "         '割': 1,\n",
              "         '力': 1,\n",
              "         '効果': 2,\n",
              "         '動かす': 1,\n",
              "         '南部': 1,\n",
              "         '取っ': 2,\n",
              "         '吉野': 1,\n",
              "         '命': 1,\n",
              "         '土砂崩れ': 1,\n",
              "         '壁': 1,\n",
              "         '多く': 1,\n",
              "         '大事': 1,\n",
              "         '奥': 1,\n",
              "         '好き': 1,\n",
              "         '子犬': 1,\n",
              "         '守っ': 1,\n",
              "         '寒い': 1,\n",
              "         '差': 1,\n",
              "         '年': 1,\n",
              "         '広域': 1,\n",
              "         '庭': 1,\n",
              "         '張り付く': 1,\n",
              "         '後期': 1,\n",
              "         '得': 1,\n",
              "         '御殿': 1,\n",
              "         '復旧': 1,\n",
              "         '息子': 1,\n",
              "         '愛し': 1,\n",
              "         '払っ': 1,\n",
              "         '拡大': 1,\n",
              "         '摂る': 1,\n",
              "         '撃た': 1,\n",
              "         '方': 1,\n",
              "         '早': 1,\n",
              "         '明け': 1,\n",
              "         '明日': 1,\n",
              "         '映画': 1,\n",
              "         '時': 1,\n",
              "         '時代': 1,\n",
              "         '最高': 1,\n",
              "         '朝': 1,\n",
              "         '村': 1,\n",
              "         '機能': 1,\n",
              "         '檜原': 1,\n",
              "         '歩き': 1,\n",
              "         '死傷': 1,\n",
              "         '殺人': 1,\n",
              "         '江戸': 2,\n",
              "         '沈黙': 1,\n",
              "         '泥水': 1,\n",
              "         '洪水': 1,\n",
              "         '激しく': 1,\n",
              "         '災害': 1,\n",
              "         '燃やす': 1,\n",
              "         '狙い': 1,\n",
              "         '現実': 2,\n",
              "         '痛み': 1,\n",
              "         '発達': 1,\n",
              "         '白い': 1,\n",
              "         '直に': 1,\n",
              "         '紅茶': 1,\n",
              "         '経済': 1,\n",
              "         '結構': 1,\n",
              "         '羊': 1,\n",
              "         '者': 1,\n",
              "         '脂肪': 1,\n",
              "         '脂肪酸': 1,\n",
              "         '自宅': 1,\n",
              "         '自然': 1,\n",
              "         '致し方': 1,\n",
              "         '花': 2,\n",
              "         '落雷': 1,\n",
              "         '血まみれ': 1,\n",
              "         '血液': 2,\n",
              "         '行っ': 1,\n",
              "         '街道': 1,\n",
              "         '被害': 1,\n",
              "         '見': 1,\n",
              "         '見つけ': 1,\n",
              "         '覚醒剤': 1,\n",
              "         '親友': 1,\n",
              "         '許可': 1,\n",
              "         '警察官': 1,\n",
              "         '貧富': 1,\n",
              "         '貨幣': 1,\n",
              "         '貰える': 1,\n",
              "         '起こっ': 1,\n",
              "         '路': 1,\n",
              "         '農民': 1,\n",
              "         '迂回': 1,\n",
              "         '速攻': 1,\n",
              "         '運動': 1,\n",
              "         '違う': 2,\n",
              "         '都市': 1,\n",
              "         '銅': 1,\n",
              "         '間': 1,\n",
              "         '難しい': 1,\n",
              "         '雷': 1,\n",
              "         '青梅': 1,\n",
              "         '面白い': 1,\n",
              "         '響かせ': 1,\n",
              "         '飲ん': 1,\n",
              "         '飼う': 1,\n",
              "         '飼っ': 1,\n",
              "         '駅': 1,\n",
              "         '鬼': 1,\n",
              "         '麻痺': 1,\n",
              "         '鼓膜': 1,\n",
              "         '，': 3})"
            ]
          },
          "metadata": {
            "tags": []
          },
          "execution_count": 23
        }
      ]
    },
    {
      "cell_type": "code",
      "metadata": {
        "id": "I5hbK7xymJNs",
        "colab_type": "code",
        "colab": {
          "base_uri": "https://localhost:8080/",
          "height": 1000
        },
        "outputId": "36518bca-715e-443c-bb18-cd67ebc819b6"
      },
      "source": [
        "TEXT.vocab.stoi #どの単語がどの単語IDに割り振られたのかを確認できる"
      ],
      "execution_count": 24,
      "outputs": [
        {
          "output_type": "execute_result",
          "data": {
            "text/plain": [
              "defaultdict(<function torchtext.vocab._default_unk_index>,\n",
              "            {'#': 67,\n",
              "             '-': 39,\n",
              "             '.': 25,\n",
              "             '...': 68,\n",
              "             '/': 16,\n",
              "             '0': 11,\n",
              "             '00': 26,\n",
              "             '0000': 27,\n",
              "             '00000000': 69,\n",
              "             '://': 28,\n",
              "             '<pad>': 1,\n",
              "             '<unk>': 0,\n",
              "             '@': 40,\n",
              "             '[': 70,\n",
              "             ']': 71,\n",
              "             'co': 29,\n",
              "             'etc': 72,\n",
              "             'gw': 73,\n",
              "             'https': 30,\n",
              "             'i': 74,\n",
              "             'it': 75,\n",
              "             'jadevalerie': 76,\n",
              "             'kenjikenji': 77,\n",
              "             'livingbynumbers': 78,\n",
              "             'ltejjx': 79,\n",
              "             'mr': 80,\n",
              "             'n': 81,\n",
              "             'oa': 82,\n",
              "             'p': 83,\n",
              "             'qs': 84,\n",
              "             'rdj': 85,\n",
              "             'sm': 86,\n",
              "             't': 17,\n",
              "             'uiz': 87,\n",
              "             'w': 88,\n",
              "             'yt': 89,\n",
              "             'zy': 90,\n",
              "             '…': 91,\n",
              "             '⇒「': 92,\n",
              "             '♪': 93,\n",
              "             '、': 7,\n",
              "             '。': 4,\n",
              "             '「': 31,\n",
              "             '」': 18,\n",
              "             '【': 32,\n",
              "             '】': 33,\n",
              "             '〜': 94,\n",
              "             'あげ': 95,\n",
              "             'あなた': 96,\n",
              "             'あの': 97,\n",
              "             'ある': 41,\n",
              "             'い': 42,\n",
              "             'いし': 43,\n",
              "             'いる': 19,\n",
              "             'いわし': 98,\n",
              "             'うえ': 99,\n",
              "             'うーん': 100,\n",
              "             'おすすめ': 101,\n",
              "             'お化け': 102,\n",
              "             'か': 103,\n",
              "             'かけ': 104,\n",
              "             'から': 105,\n",
              "             'が': 8,\n",
              "             'き': 106,\n",
              "             'けど': 20,\n",
              "             'こと': 44,\n",
              "             'この': 107,\n",
              "             'ご': 45,\n",
              "             'さ': 21,\n",
              "             'し': 34,\n",
              "             'しか': 108,\n",
              "             'しばしば': 109,\n",
              "             'じゃん': 110,\n",
              "             'すごい': 111,\n",
              "             'する': 112,\n",
              "             'せ': 46,\n",
              "             'そう': 113,\n",
              "             'そこで': 114,\n",
              "             'その': 115,\n",
              "             'そのうえ': 116,\n",
              "             'それ': 47,\n",
              "             'た': 12,\n",
              "             'たい': 22,\n",
              "             'ただ': 117,\n",
              "             'たち': 118,\n",
              "             'たま': 48,\n",
              "             'たら': 119,\n",
              "             'だ': 23,\n",
              "             'ちなみに': 120,\n",
              "             'って': 121,\n",
              "             'て': 5,\n",
              "             'で': 6,\n",
              "             'できる': 122,\n",
              "             'です': 123,\n",
              "             'と': 13,\n",
              "             'とか': 124,\n",
              "             'として': 125,\n",
              "             'な': 15,\n",
              "             'なぁ': 126,\n",
              "             'ない': 49,\n",
              "             'なかっ': 127,\n",
              "             'なっ': 50,\n",
              "             'なに': 128,\n",
              "             'なり': 129,\n",
              "             'なる': 35,\n",
              "             'なん': 130,\n",
              "             'なんて': 131,\n",
              "             'に': 2,\n",
              "             'の': 3,\n",
              "             'ので': 132,\n",
              "             'は': 9,\n",
              "             'ほう': 133,\n",
              "             'ます': 51,\n",
              "             'まで': 134,\n",
              "             'も': 14,\n",
              "             'もんどり': 135,\n",
              "             'や': 36,\n",
              "             'よう': 52,\n",
              "             'より': 53,\n",
              "             'れ': 24,\n",
              "             'わ': 136,\n",
              "             'を': 10,\n",
              "             'ん': 137,\n",
              "             'アメリカンサイコ': 138,\n",
              "             'エグ': 54,\n",
              "             'カカカカ': 139,\n",
              "             'カフェイン': 55,\n",
              "             'クレイジー': 140,\n",
              "             'グロ': 141,\n",
              "             'シーン': 142,\n",
              "             'ジュブナイル': 143,\n",
              "             'スプラッタ': 144,\n",
              "             'ゾクゾク': 145,\n",
              "             'チーズ': 146,\n",
              "             'テ': 147,\n",
              "             'ティノ': 56,\n",
              "             'ハリケーン': 148,\n",
              "             'ピクニック': 149,\n",
              "             'ブラジル': 150,\n",
              "             'ベール': 151,\n",
              "             'ホット': 57,\n",
              "             'ホラー': 152,\n",
              "             'ホームレス': 153,\n",
              "             'マイ': 154,\n",
              "             'マラソン': 155,\n",
              "             'リスト': 156,\n",
              "             '・': 37,\n",
              "             '一緒': 157,\n",
              "             '中': 58,\n",
              "             '交感神経': 158,\n",
              "             '人': 59,\n",
              "             '他': 159,\n",
              "             '伴う': 160,\n",
              "             '住ん': 161,\n",
              "             '体': 162,\n",
              "             '体内': 163,\n",
              "             '余計': 164,\n",
              "             '候補': 165,\n",
              "             '全員': 166,\n",
              "             '出': 167,\n",
              "             '分解': 168,\n",
              "             '刺激': 169,\n",
              "             '前': 170,\n",
              "             '割': 171,\n",
              "             '力': 172,\n",
              "             '効果': 60,\n",
              "             '動かす': 173,\n",
              "             '南部': 174,\n",
              "             '取っ': 61,\n",
              "             '吉野': 175,\n",
              "             '命': 176,\n",
              "             '土砂崩れ': 177,\n",
              "             '壁': 178,\n",
              "             '多く': 179,\n",
              "             '大事': 180,\n",
              "             '奥': 181,\n",
              "             '好き': 182,\n",
              "             '子犬': 183,\n",
              "             '守っ': 184,\n",
              "             '寒い': 185,\n",
              "             '差': 186,\n",
              "             '年': 187,\n",
              "             '広域': 188,\n",
              "             '庭': 189,\n",
              "             '張り付く': 190,\n",
              "             '後期': 191,\n",
              "             '得': 192,\n",
              "             '御殿': 193,\n",
              "             '復旧': 194,\n",
              "             '息子': 195,\n",
              "             '愛し': 196,\n",
              "             '払っ': 197,\n",
              "             '拡大': 198,\n",
              "             '摂る': 199,\n",
              "             '撃た': 200,\n",
              "             '方': 201,\n",
              "             '早': 202,\n",
              "             '明け': 203,\n",
              "             '明日': 204,\n",
              "             '映画': 205,\n",
              "             '時': 206,\n",
              "             '時代': 207,\n",
              "             '最高': 208,\n",
              "             '朝': 209,\n",
              "             '村': 210,\n",
              "             '機能': 211,\n",
              "             '檜原': 212,\n",
              "             '歩き': 213,\n",
              "             '死傷': 214,\n",
              "             '殺人': 215,\n",
              "             '江戸': 62,\n",
              "             '沈黙': 216,\n",
              "             '泥水': 217,\n",
              "             '洪水': 218,\n",
              "             '激しく': 219,\n",
              "             '災害': 220,\n",
              "             '燃やす': 221,\n",
              "             '狙い': 222,\n",
              "             '現実': 63,\n",
              "             '痛み': 223,\n",
              "             '発達': 224,\n",
              "             '白い': 225,\n",
              "             '直に': 226,\n",
              "             '紅茶': 227,\n",
              "             '経済': 228,\n",
              "             '結構': 229,\n",
              "             '羊': 230,\n",
              "             '者': 231,\n",
              "             '脂肪': 232,\n",
              "             '脂肪酸': 233,\n",
              "             '自宅': 234,\n",
              "             '自然': 235,\n",
              "             '致し方': 236,\n",
              "             '花': 64,\n",
              "             '落雷': 237,\n",
              "             '血まみれ': 238,\n",
              "             '血液': 65,\n",
              "             '行っ': 239,\n",
              "             '街道': 240,\n",
              "             '被害': 241,\n",
              "             '見': 242,\n",
              "             '見つけ': 243,\n",
              "             '覚醒剤': 244,\n",
              "             '親友': 245,\n",
              "             '許可': 246,\n",
              "             '警察官': 247,\n",
              "             '貧富': 248,\n",
              "             '貨幣': 249,\n",
              "             '貰える': 250,\n",
              "             '起こっ': 251,\n",
              "             '路': 252,\n",
              "             '農民': 253,\n",
              "             '迂回': 254,\n",
              "             '速攻': 255,\n",
              "             '運動': 256,\n",
              "             '違う': 66,\n",
              "             '都市': 257,\n",
              "             '銅': 258,\n",
              "             '間': 259,\n",
              "             '難しい': 260,\n",
              "             '雷': 261,\n",
              "             '青梅': 262,\n",
              "             '面白い': 263,\n",
              "             '響かせ': 264,\n",
              "             '飲ん': 265,\n",
              "             '飼う': 266,\n",
              "             '飼っ': 267,\n",
              "             '駅': 268,\n",
              "             '鬼': 269,\n",
              "             '麻痺': 270,\n",
              "             '鼓膜': 271,\n",
              "             '，': 38})"
            ]
          },
          "metadata": {
            "tags": []
          },
          "execution_count": 24
        }
      ]
    },
    {
      "cell_type": "markdown",
      "metadata": {
        "id": "BE0kqaIemGTm",
        "colab_type": "text"
      },
      "source": [
        "##DataLoaderの作成"
      ]
    },
    {
      "cell_type": "code",
      "metadata": {
        "id": "dudwOmosnP1h",
        "colab_type": "code",
        "colab": {}
      },
      "source": [
        "train_dl = torchtext.data.Iterator(train_ds, batch_size=2, train=True)\n",
        "\n",
        "val_dl = torchtext.data.Iterator(val_ds, batch_size=2, train=False, sort=False)\n",
        "\n",
        "test_dl = torchtext.data.Iterator(test_ds, batch_size=2, train=False, sort=False)"
      ],
      "execution_count": 0,
      "outputs": []
    },
    {
      "cell_type": "code",
      "metadata": {
        "id": "SdmcTjzqmskB",
        "colab_type": "code",
        "colab": {
          "base_uri": "https://localhost:8080/",
          "height": 83
        },
        "outputId": "0c03c9b4-c988-49e1-eead-058fa8a06adc"
      },
      "source": [
        "batch = next(iter(val_dl))\n",
        "print(batch.Text)\n"
      ],
      "execution_count": 27,
      "outputs": [
        {
          "output_type": "stream",
          "text": [
            "(tensor([[  0,  36,   0,   0,   0,   0,   0,   0,   0,   7, 162,  58,   0,   0,\n",
            "           8,   0,  50,   5, 126,  91,   0,   7,   0,   6,  91],\n",
            "        [  0,   0,   0,   3,   0,   3,   0,   3,   0,   8,   0,   0,   0,   0,\n",
            "           0,   0,   4,   0,   3,   0,  14,   0,   0,   2,   0]]), tensor([25, 25]))\n"
          ],
          "name": "stdout"
        }
      ]
    },
    {
      "cell_type": "code",
      "metadata": {
        "id": "8uljNch9m2DW",
        "colab_type": "code",
        "colab": {
          "base_uri": "https://localhost:8080/",
          "height": 33
        },
        "outputId": "7f235e02-ef00-4df5-b8aa-8fcf87c5d330"
      },
      "source": [
        "print(batch.Label)"
      ],
      "execution_count": 28,
      "outputs": [
        {
          "output_type": "stream",
          "text": [
            "tensor([0, 0])\n"
          ],
          "name": "stdout"
        }
      ]
    },
    {
      "cell_type": "code",
      "metadata": {
        "id": "aMiQMpsQnGCe",
        "colab_type": "code",
        "colab": {}
      },
      "source": [
        ""
      ],
      "execution_count": 0,
      "outputs": []
    }
  ]
}